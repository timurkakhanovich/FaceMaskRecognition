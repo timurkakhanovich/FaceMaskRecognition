{
 "cells": [
  {
   "cell_type": "code",
   "execution_count": 1,
   "metadata": {},
   "outputs": [
    {
     "output_type": "stream",
     "name": "stdout",
     "text": [
      "cuda\n"
     ]
    },
    {
     "output_type": "execute_result",
     "data": {
      "text/plain": [
       "12"
      ]
     },
     "metadata": {},
     "execution_count": 1
    }
   ],
   "source": [
    "from model.resnet import Resnet18Triplet\n",
    "from validation import evaluate_lfw\n",
    "import torch\n",
    "import torch.nn as nn\n",
    "import torch.optim as optim\n",
    "from torch.optim import lr_scheduler\n",
    "import torch.nn.functional as F\n",
    "from torch.nn.modules.distance import PairwiseDistance\n",
    "from torch.autograd import Variable\n",
    "from torch.utils.data import Dataset, DataLoader, WeightedRandomSampler \n",
    "from torchvision import datasets, transforms\n",
    "\n",
    "from Datasets.LFWDataset import LFWDataset\n",
    "\n",
    "from sklearn.metrics import auc\n",
    "from sklearn.model_selection import KFold\n",
    "from scipy import interpolate\n",
    "\n",
    "import numpy as np\n",
    "import random\n",
    "import copy\n",
    "import os\n",
    "import multiprocessing\n",
    "import glob\n",
    "import gc\n",
    "from collections import Counter\n",
    "\n",
    "from tqdm.notebook import tqdm\n",
    "import matplotlib.pyplot as plt\n",
    "%matplotlib inline\n",
    "\n",
    "from PIL import Image\n",
    "device = torch.device('cuda' if torch.cuda.is_available() else 'cpu')\n",
    "print(device)\n",
    "torch.cuda.empty_cache()\n",
    "os.cpu_count()"
   ]
  },
  {
   "cell_type": "code",
   "execution_count": 2,
   "metadata": {},
   "outputs": [],
   "source": [
    "# Image Loader  \n",
    "class TripletFaceDataset(Dataset):\n",
    "    def __init__(self, root_dir, face_data, num_triplets, classes=100, batch_size=1, \n",
    "                  num_identities_per_batch=32, transform=None, num_workers=0):\n",
    "        self.data_path = os.path.join(root_dir, face_data)\n",
    "        self.data_dir = list(map(lambda cur_folder: \n",
    "                                os.path.join(self.data_path, cur_folder), \n",
    "                                sorted(os.listdir(self.data_path))))\n",
    "\n",
    "        self.num_workers = num_workers if num_workers != 0 else os.cpu_count()\n",
    "\n",
    "        self.num_triplets = num_triplets\n",
    "        self.batch_size = batch_size\n",
    "        self.num_identities_per_batch = num_identities_per_batch\n",
    "        self.transform = transform\n",
    "        self.classes = classes\n",
    "        self.triplets = self.multiprocess_generate_triplets()\n",
    "\n",
    "    def generate_triplets(self, num_triplets_per_process, process_id):\n",
    "        randomstate = np.random.RandomState(seed=None)\n",
    "        labels = np.load('Data/labels.npy')\n",
    "\n",
    "        num_iterations_per_epoch = num_triplets_per_process // self.batch_size\n",
    "\n",
    "        triplets = np.zeros((num_iterations_per_epoch, self.batch_size, 5))\n",
    "        for iter_idx, training_iteration in enumerate(range(num_iterations_per_epoch)):   \n",
    "            triplets_within_batch = []\n",
    "            classes_subset_for_triplets = randomstate.choice(self.classes, self.num_identities_per_batch)  # per batch  \n",
    "\n",
    "            for triplet in range(self.batch_size):\n",
    "                pos_class = randomstate.choice(classes_subset_for_triplets)\n",
    "\n",
    "                while True:\n",
    "                    neg_class = randomstate.choice(classes_subset_for_triplets)\n",
    "\n",
    "                    if pos_class != neg_class:\n",
    "                        break\n",
    "\n",
    "                ianc, ipos = randomstate.choice(labels[pos_class], 2, replace=False)\n",
    "                ineg = randomstate.choice(labels[neg_class])\n",
    "\n",
    "                triplets_within_batch.append([\n",
    "                    pos_class,\n",
    "                    neg_class,\n",
    "                    ianc,\n",
    "                    ipos,\n",
    "                    ineg\n",
    "                ])\n",
    "\n",
    "            triplets[iter_idx] = np.array(triplets_within_batch)\n",
    "\n",
    "        np.save('Datasets/temp/temp_training_triplets_identities_{}_batch_{}_process_{}.npy'.format(\n",
    "            self.num_identities_per_batch, self.batch_size, process_id\n",
    "            ),\n",
    "            triplets\n",
    "        )\n",
    "    \n",
    "    def multiprocess_generate_triplets(self):\n",
    "        num_triplets_per_process = self.num_triplets // self.num_workers\n",
    "\n",
    "        processes = []\n",
    "        for process_id in range(self.num_workers):\n",
    "            processes.append(multiprocessing.Process(\n",
    "                target=self.generate_triplets,\n",
    "                args=(num_triplets_per_process, process_id + 1)\n",
    "            ))\n",
    "        \n",
    "        for process in processes:\n",
    "            process.start()\n",
    "        \n",
    "        for process in processes:\n",
    "            process.join()\n",
    "        \n",
    "        process_files = glob.glob('Datasets/temp/*.npy')\n",
    "\n",
    "        total_triplets = []\n",
    "        for current_file in process_files:\n",
    "            total_triplets.append(np.load(current_file).astype(int))\n",
    "            os.remove(current_file)\n",
    "        \n",
    "        return np.vstack(total_triplets)\n",
    "    \n",
    "    def get_triplet_by_indices(self, pos_class, neg_class, ianc, ipos, ineg):\n",
    "        pos_dir = os.listdir(self.data_dir[pos_class])\n",
    "        neg_dir = os.listdir(self.data_dir[neg_class])\n",
    "\n",
    "        anc_data = pos_dir[ianc]\n",
    "        pos_data = pos_dir[ipos]\n",
    "        neg_data = neg_dir[ineg]\n",
    "\n",
    "        anc = Image.open(os.path.join(self.data_dir[pos_class], anc_data))\n",
    "        pos = Image.open(os.path.join(self.data_dir[pos_class], pos_data))\n",
    "        neg = Image.open(os.path.join(self.data_dir[neg_class], neg_data))\n",
    "\n",
    "        if self.transform:\n",
    "            anc = self.transform(anc)\n",
    "            pos = self.transform(pos)\n",
    "            neg = self.transform(neg)\n",
    "        \n",
    "        return { \n",
    "                'anc_img': anc, \n",
    "                'pos_img': pos, \n",
    "                'neg_img': neg,\n",
    "                'pos_class': pos_class,\n",
    "                'neg_class': neg_class \n",
    "            }\n",
    "\n",
    "    def __getitem__(self, index):\n",
    "        batch = self.triplets[index]\n",
    "\n",
    "        batch_sample = []\n",
    "        for data_info in batch:\n",
    "            batch_sample.append(self.get_triplet_by_indices(*data_info))\n",
    "\n",
    "        return batch_sample\n",
    "    \n",
    "    def __len__(self):\n",
    "        return len(self.triplets)"
   ]
  },
  {
   "cell_type": "code",
   "execution_count": 3,
   "metadata": {},
   "outputs": [],
   "source": [
    "def validate_lfw(model, lfw_dataloader):\n",
    "    model.eval()\n",
    "    with torch.no_grad():\n",
    "        l2_distance = PairwiseDistance(p=2)\n",
    "        distances, labels = [], []\n",
    "\n",
    "        progress_bar = enumerate(tqdm(lfw_dataloader))\n",
    "\n",
    "        for batch_index, (data_a, data_b, label) in progress_bar:\n",
    "            data_a = data_a.to(device)\n",
    "            data_b = data_b.to(device)\n",
    "\n",
    "            output_a, output_b = model(data_a), model(data_b)\n",
    "            distance = l2_distance.forward(output_a, output_b)\n",
    "\n",
    "            distances.append(distance.cpu().detach().numpy())\n",
    "            labels.append(label.cpu().detach().numpy())\n",
    "\n",
    "        labels = np.array([sublabel for label in labels for sublabel in label])\n",
    "        distances = np.array([subdist for distance in distances for subdist in distance])\n",
    "\n",
    "        TPR, FPR, precision, recall, accuracy, roc_auc, best_distances, TAR, FAR = \\\n",
    "            evaluate_lfw(\n",
    "                distances=distances,\n",
    "                labels=labels,\n",
    "                far_target=1e-1\n",
    "            )\n",
    "\n",
    "        aver_prec = np.mean(precision)\n",
    "        std_prec = np.std(precision)\n",
    "        aver_recall = np.mean(recall)\n",
    "        std_recall = np.std(recall)\n",
    "\n",
    "        print(\"Accuracy on LFW: {:.4f}+-{:.4f}\\nPrecision: {:.4f}+-{:.4f}\\nRecall: {:.4f}+-{:.4f}\\n\"\n",
    "            \"F1-score: {:.4f}+-{:.4f}\\nROC Area Under Curve: {:.4f}\\nBest distance threshold: {:.2f}+-{:.2f}\\n\"\n",
    "            \"TAR: {:.4f}+-{:.4f} @ FAR: {:.4f}\".format(\n",
    "                np.mean(accuracy),\n",
    "                np.std(accuracy),\n",
    "                aver_prec,\n",
    "                std_prec,\n",
    "                aver_recall,\n",
    "                std_recall,\n",
    "                2*aver_prec*aver_recall/(aver_prec + aver_recall),\n",
    "                2*std_prec*std_recall/(std_prec + std_recall),\n",
    "                roc_auc,\n",
    "                np.mean(best_distances),\n",
    "                np.std(best_distances),\n",
    "                np.mean(TAR),\n",
    "                np.std(TAR),\n",
    "                np.mean(FAR)\n",
    "            )\n",
    "        )\n",
    "\n",
    "    return best_distances"
   ]
  },
  {
   "cell_type": "code",
   "execution_count": 4,
   "metadata": {},
   "outputs": [],
   "source": [
    "data_preprocess = {\n",
    "    'train': \n",
    "        transforms.Compose([\n",
    "        transforms.Resize(size=224),\n",
    "        transforms.RandomHorizontalFlip(),\n",
    "        transforms.ToTensor(),\n",
    "        transforms.Normalize(\n",
    "            mean=[0.6068, 0.4517, 0.3800],\n",
    "            std=[0.2492, 0.2173, 0.2082]\n",
    "        )\n",
    "    ]), \n",
    "    'val':\n",
    "        transforms.Compose([\n",
    "        transforms.Resize(size=224),\n",
    "        transforms.ToTensor(),\n",
    "        transforms.Normalize(\n",
    "            mean=[0.6068, 0.4517, 0.3800],\n",
    "            std=[0.2492, 0.2173, 0.2082]\n",
    "        )\n",
    "    ])\n",
    "}"
   ]
  },
  {
   "cell_type": "code",
   "execution_count": 5,
   "metadata": {},
   "outputs": [],
   "source": [
    "datasets = { \n",
    "        'val': LFWDataset('Data/val/', 'Datasets/lfw_pairs.txt', transform=data_preprocess['val']),\n",
    "        'test': LFWDataset('Data/test', 'Datasets/lfw_pairs_test.txt', transform=data_preprocess['val'])\n",
    "    }"
   ]
  },
  {
   "cell_type": "code",
   "execution_count": 6,
   "metadata": {},
   "outputs": [],
   "source": [
    "dataloaders = {\n",
    "        'val': DataLoader(\n",
    "                dataset=datasets['val'],\n",
    "                batch_size=32,\n",
    "                num_workers=0,\n",
    "                shuffle=False\n",
    "            ),\n",
    "        'test': DataLoader(\n",
    "                dataset=datasets['test'],\n",
    "                batch_size=32,\n",
    "                num_workers=0,\n",
    "                shuffle=False\n",
    "            )\n",
    "    }"
   ]
  },
  {
   "cell_type": "code",
   "execution_count": 7,
   "metadata": {},
   "outputs": [],
   "source": [
    "#checkpoint = torch.load('model/model_resnet18_triplet.pt')\n",
    "checkpoint = torch.load('checkpoints/train_1/checkpoint_epoch_174.pt')\n",
    "model = Resnet18Triplet(embedding_dimension=checkpoint['embedding_dimension'])\n",
    "model.load_state_dict(checkpoint['model_state_dict'])\n",
    "best_distance_threshold = checkpoint['best_distance_threshold']\n",
    "curr_model_epoch = checkpoint['epoch']\n",
    "\n",
    "try:\n",
    "    prev_losses = checkpoint['losses']\n",
    "except KeyError:\n",
    "    prev_losses = []\n",
    "\n",
    "model = model.to(device)"
   ]
  },
  {
   "cell_type": "code",
   "execution_count": 8,
   "metadata": {},
   "outputs": [],
   "source": [
    "optimizer = optim.Adagrad(model.parameters(), lr=0.1, initial_accumulator_value=0.1)\n",
    "optimizer.load_state_dict(checkpoint['optimizer_model_state_dict'])\n",
    "LR_scheduler = lr_scheduler.StepLR(optimizer, step_size=15, gamma=1)  # for test"
   ]
  },
  {
   "cell_type": "code",
   "execution_count": 9,
   "metadata": {},
   "outputs": [],
   "source": [
    "def train(model, optimizer, scheduler=None, num_epochs=5, start_epoch=-1, margin=0.2, \n",
    "        hard_triplet=True, prev_losses=[]):\n",
    "    best_model_weights = copy.deepcopy(model.state_dict())\n",
    "    best_acc = 0.0\n",
    "    epoch_dataset_size = 0\n",
    "    l2_distance = PairwiseDistance(p=2)\n",
    "    tripletloss = nn.TripletMarginLoss(margin=margin, p=2)\n",
    "    epoch_losses = prev_losses[:]\n",
    "\n",
    "    for epoch in range(start_epoch + 1, start_epoch + 1 + num_epochs):\n",
    "        running_corrects = 0.0\n",
    "        running_loss = 0.0\n",
    "        epoch_dataset_size = 0\n",
    "\n",
    "        print('Epoch {}/{}'.format(epoch, start_epoch + num_epochs))\n",
    "        print('-' * 20)\n",
    "\n",
    "        datasets = { \n",
    "            'train': TripletFaceDataset('Data/', 'train', batch_size=32, num_triplets=6144, transform=data_preprocess['train']),\n",
    "            'val': LFWDataset('Data/val/', 'Datasets/lfw_pairs.txt', transform=data_preprocess['val'])\n",
    "        }\n",
    "        \n",
    "        dataloaders = {\n",
    "            'train': DataLoader(datasets['train'], shuffle=True),\n",
    "            'val': DataLoader(\n",
    "                    dataset=datasets['val'],\n",
    "                    batch_size=32,\n",
    "                    num_workers=0,\n",
    "                    shuffle=False\n",
    "                )\n",
    "        }\n",
    "\n",
    "        model.train()\n",
    "\n",
    "        for batch_idx, data in enumerate(tqdm(dataloaders['train'])):\n",
    "            anch_inputs = torch.stack([d['anc_img'] for d in data]).squeeze().cuda()\n",
    "            pos_inputs = torch.stack([d['pos_img'] for d in data]).squeeze().cuda()\n",
    "            neg_inputs = torch.stack([d['neg_img'] for d in data]).squeeze().cuda()\n",
    "            pos_labels = torch.stack([d['pos_class'] for d in data]).squeeze().cuda()\n",
    "            pos_labels = torch.stack([d['neg_class'] for d in data]).squeeze().cuda()\n",
    "\n",
    "            anch_outputs = model(anch_inputs)\n",
    "            pos_outputs = model(pos_inputs)\n",
    "            neg_outputs = model(neg_inputs)\n",
    "\n",
    "            pos_distance = l2_distance(anch_outputs, pos_outputs)\n",
    "            neg_distance = l2_distance(anch_outputs, neg_outputs)\n",
    "\n",
    "            if hard_triplet:\n",
    "                hard_triplets_correct = (neg_distance - pos_distance < margin).cpu().numpy().flatten()\n",
    "\n",
    "                triplets_indices = np.where(hard_triplets_correct == True)[0]\n",
    "\n",
    "            else:\n",
    "                first_cond = (neg_distance - pos_distance < margin).cpu().numpy().flatten()\n",
    "                second_cond = (pos_distance < neg_distance).cpu().numpy().flatten()\n",
    "\n",
    "                semihard_triplets_correct = np.logical_and(first_cond, second_cond)\n",
    "\n",
    "                triplets_indices = np.where(semihard_triplets_correct == True)[0]\n",
    "\n",
    "            anch_triplet = anch_outputs[triplets_indices]\n",
    "            pos_triplet = pos_outputs[triplets_indices]\n",
    "            neg_triplet = neg_outputs[triplets_indices]\n",
    "\n",
    "            loss = tripletloss(anch_triplet, pos_triplet, neg_triplet)\n",
    "\n",
    "            optimizer.zero_grad()\n",
    "\n",
    "            loss.backward()\n",
    "            optimizer.step()\n",
    "            scheduler.step()\n",
    "            \n",
    "            if not np.isnan(loss.item()):    \n",
    "                running_loss += loss.item() * len(triplets_indices)\n",
    "            running_corrects += len(data) - len(triplets_indices)\n",
    "            epoch_dataset_size += len(data)\n",
    "    \n",
    "\n",
    "        #epoch_loss = running_loss / datasets['train'].num_triplets\n",
    "        epoch_loss = running_loss / len(dataloaders['train'])\n",
    "        epoch_losses.append(epoch_loss)\n",
    "\n",
    "        # подразумевается, что исходный dataloaders['train'] взят из этого datasets['train'] \n",
    "        #epoch_acc = running_corrects / datasets['train'].num_triplets\n",
    "        epoch_acc = running_corrects / epoch_dataset_size\n",
    "\n",
    "        print('Train Loss: {:.4f} Acc: {:.4f}'.format(\n",
    "                epoch_loss, epoch_acc))\n",
    "\n",
    "        model.eval()\n",
    "        best_distances = validate_lfw(model, dataloaders['val'])\n",
    "\n",
    "        state = {\n",
    "            'epoch': epoch,\n",
    "            'embedding_dimension': checkpoint['embedding_dimension'],\n",
    "            'batch_size_training': len(dataloaders['train']),\n",
    "            'model_state_dict': model.state_dict(),\n",
    "            'model_architecture': checkpoint['model_architecture'],\n",
    "            'optimizer_model_state_dict': optimizer.state_dict(),\n",
    "            'best_distance_threshold': np.mean(best_distances),\n",
    "            'losses': epoch_losses\n",
    "        }\n",
    "        \n",
    "        del dataloaders, datasets\n",
    "        gc.collect()\n",
    "        \n",
    "        torch.save(state, 'checkpoint_epoch_{}.pt'.format(epoch))"
   ]
  },
  {
   "cell_type": "code",
   "execution_count": null,
   "metadata": {},
   "outputs": [
    {
     "name": "stdout",
     "output_type": "stream",
     "text": [
      "Epoch 100/169\n",
      "--------------------\n"
     ]
    },
    {
     "data": {
      "application/vnd.jupyter.widget-view+json": {
       "model_id": "42cfa305b02f4de1bb8c4881cd0ea6da",
       "version_major": 2,
       "version_minor": 0
      },
      "text/plain": [
       "HBox(children=(HTML(value=''), FloatProgress(value=0.0, max=200.0), HTML(value='')))"
      ]
     },
     "metadata": {},
     "output_type": "display_data"
    },
    {
     "name": "stdout",
     "output_type": "stream",
     "text": [
      "\n",
      "Train Loss: 3.4987 Acc: 0.6820\n"
     ]
    },
    {
     "data": {
      "application/vnd.jupyter.widget-view+json": {
       "model_id": "eaf5d727cb724f74802704eded524fbe",
       "version_major": 2,
       "version_minor": 0
      },
      "text/plain": [
       "HBox(children=(HTML(value=''), FloatProgress(value=0.0, max=125.0), HTML(value='')))"
      ]
     },
     "metadata": {},
     "output_type": "display_data"
    },
    {
     "name": "stdout",
     "output_type": "stream",
     "text": [
      "\n",
      "Accuracy on LFW: 0.7419+-0.0274\n",
      "Precision 0.7382+-0.7382\n",
      "Recall 0.7509+-0.7509\n",
      "F1-score: 0.7445+-0.7445\n",
      "ROC Area Under Curve: 0.8182\n",
      "Best distance threshold: 1.10+-0.03\n",
      "TAR: 0.0320+-0.0103 @ FAR: 0.0010\n",
      "Epoch 101/169\n",
      "--------------------\n"
     ]
    },
    {
     "data": {
      "application/vnd.jupyter.widget-view+json": {
       "model_id": "3cfe4e83d5534916b7e0d8098fce7295",
       "version_major": 2,
       "version_minor": 0
      },
      "text/plain": [
       "HBox(children=(HTML(value=''), FloatProgress(value=0.0, max=200.0), HTML(value='')))"
      ]
     },
     "metadata": {},
     "output_type": "display_data"
    },
    {
     "name": "stdout",
     "output_type": "stream",
     "text": [
      "\n",
      "Train Loss: 3.3153 Acc: 0.7016\n"
     ]
    },
    {
     "data": {
      "application/vnd.jupyter.widget-view+json": {
       "model_id": "fc40b21b675f432a9126d8553a0552d9",
       "version_major": 2,
       "version_minor": 0
      },
      "text/plain": [
       "HBox(children=(HTML(value=''), FloatProgress(value=0.0, max=125.0), HTML(value='')))"
      ]
     },
     "metadata": {},
     "output_type": "display_data"
    },
    {
     "name": "stdout",
     "output_type": "stream",
     "text": [
      "\n",
      "Accuracy on LFW: 0.7592+-0.0192\n",
      "Precision 0.7634+-0.7634\n",
      "Recall 0.7529+-0.7529\n",
      "F1-score: 0.7581+-0.7581\n",
      "ROC Area Under Curve: 0.8418\n",
      "Best distance threshold: 1.03+-0.02\n",
      "TAR: 0.0265+-0.0105 @ FAR: 0.0010\n",
      "Epoch 102/169\n",
      "--------------------\n"
     ]
    },
    {
     "data": {
      "application/vnd.jupyter.widget-view+json": {
       "model_id": "26ecf9135f374ebaa3c5d83dba961ea3",
       "version_major": 2,
       "version_minor": 0
      },
      "text/plain": [
       "HBox(children=(HTML(value=''), FloatProgress(value=0.0, max=200.0), HTML(value='')))"
      ]
     },
     "metadata": {},
     "output_type": "display_data"
    },
    {
     "name": "stdout",
     "output_type": "stream",
     "text": [
      "\n",
      "Train Loss: 3.2073 Acc: 0.7094\n"
     ]
    },
    {
     "data": {
      "application/vnd.jupyter.widget-view+json": {
       "model_id": "3acfa217914d4bf987f257ada79e544f",
       "version_major": 2,
       "version_minor": 0
      },
      "text/plain": [
       "HBox(children=(HTML(value=''), FloatProgress(value=0.0, max=125.0), HTML(value='')))"
      ]
     },
     "metadata": {},
     "output_type": "display_data"
    },
    {
     "name": "stdout",
     "output_type": "stream",
     "text": [
      "\n",
      "Accuracy on LFW: 0.7587+-0.0292\n",
      "Precision 0.7506+-0.7506\n",
      "Recall 0.7744+-0.7744\n",
      "F1-score: 0.7623+-0.7623\n",
      "ROC Area Under Curve: 0.8335\n",
      "Best distance threshold: 1.09+-0.00\n",
      "TAR: 0.0410+-0.0216 @ FAR: 0.0020\n",
      "Epoch 103/169\n",
      "--------------------\n"
     ]
    },
    {
     "data": {
      "application/vnd.jupyter.widget-view+json": {
       "model_id": "bad9042faf2d4977b13af2edb6a92d03",
       "version_major": 2,
       "version_minor": 0
      },
      "text/plain": [
       "HBox(children=(HTML(value=''), FloatProgress(value=0.0, max=200.0), HTML(value='')))"
      ]
     },
     "metadata": {},
     "output_type": "display_data"
    },
    {
     "name": "stdout",
     "output_type": "stream",
     "text": [
      "\n",
      "Train Loss: 3.2075 Acc: 0.7144\n"
     ]
    },
    {
     "data": {
      "application/vnd.jupyter.widget-view+json": {
       "model_id": "0b756ec0ad5a4ab1b305c2540c3f8f6d",
       "version_major": 2,
       "version_minor": 0
      },
      "text/plain": [
       "HBox(children=(HTML(value=''), FloatProgress(value=0.0, max=125.0), HTML(value='')))"
      ]
     },
     "metadata": {},
     "output_type": "display_data"
    },
    {
     "name": "stdout",
     "output_type": "stream",
     "text": [
      "\n",
      "Accuracy on LFW: 0.7612+-0.0267\n",
      "Precision 0.7534+-0.7534\n",
      "Recall 0.7774+-0.7774\n",
      "F1-score: 0.7652+-0.7652\n",
      "ROC Area Under Curve: 0.8311\n",
      "Best distance threshold: 1.12+-0.01\n",
      "TAR: 0.0105+-0.0052 @ FAR: 0.0010\n",
      "Epoch 104/169\n",
      "--------------------\n"
     ]
    },
    {
     "data": {
      "application/vnd.jupyter.widget-view+json": {
       "model_id": "23f8ae44142e40e59c9be8855a287a38",
       "version_major": 2,
       "version_minor": 0
      },
      "text/plain": [
       "HBox(children=(HTML(value=''), FloatProgress(value=0.0, max=200.0), HTML(value='')))"
      ]
     },
     "metadata": {},
     "output_type": "display_data"
    },
    {
     "name": "stdout",
     "output_type": "stream",
     "text": [
      "\n",
      "Train Loss: 3.0973 Acc: 0.7147\n"
     ]
    },
    {
     "data": {
      "application/vnd.jupyter.widget-view+json": {
       "model_id": "8155165651794a17af1031dc69ff93bf",
       "version_major": 2,
       "version_minor": 0
      },
      "text/plain": [
       "HBox(children=(HTML(value=''), FloatProgress(value=0.0, max=125.0), HTML(value='')))"
      ]
     },
     "metadata": {},
     "output_type": "display_data"
    },
    {
     "name": "stdout",
     "output_type": "stream",
     "text": [
      "\n",
      "Accuracy on LFW: 0.7384+-0.0326\n",
      "Precision 0.7413+-0.7413\n",
      "Recall 0.7344+-0.7344\n",
      "F1-score: 0.7378+-0.7378\n",
      "ROC Area Under Curve: 0.8158\n",
      "Best distance threshold: 1.11+-0.03\n",
      "TAR: 0.0480+-0.0264 @ FAR: 0.0010\n",
      "Epoch 105/169\n",
      "--------------------\n"
     ]
    },
    {
     "data": {
      "application/vnd.jupyter.widget-view+json": {
       "model_id": "9561ac756e7542e4b87e4aa4cbb7cd42",
       "version_major": 2,
       "version_minor": 0
      },
      "text/plain": [
       "HBox(children=(HTML(value=''), FloatProgress(value=0.0, max=200.0), HTML(value='')))"
      ]
     },
     "metadata": {},
     "output_type": "display_data"
    },
    {
     "name": "stdout",
     "output_type": "stream",
     "text": [
      "\n",
      "Train Loss: 3.0677 Acc: 0.7153\n"
     ]
    },
    {
     "data": {
      "application/vnd.jupyter.widget-view+json": {
       "model_id": "7ecc6df1eb084e62893ec65112c583cb",
       "version_major": 2,
       "version_minor": 0
      },
      "text/plain": [
       "HBox(children=(HTML(value=''), FloatProgress(value=0.0, max=125.0), HTML(value='')))"
      ]
     },
     "metadata": {},
     "output_type": "display_data"
    },
    {
     "name": "stdout",
     "output_type": "stream",
     "text": [
      "\n",
      "Accuracy on LFW: 0.7592+-0.0247\n",
      "Precision 0.7322+-0.7322\n",
      "Recall 0.8174+-0.8174\n",
      "F1-score: 0.7724+-0.7724\n",
      "ROC Area Under Curve: 0.8249\n",
      "Best distance threshold: 1.22+-0.01\n",
      "TAR: 0.0295+-0.0149 @ FAR: 0.0010\n",
      "Epoch 106/169\n",
      "--------------------\n"
     ]
    },
    {
     "data": {
      "application/vnd.jupyter.widget-view+json": {
       "model_id": "d8801565df2947d2a9fa35688a1fb432",
       "version_major": 2,
       "version_minor": 0
      },
      "text/plain": [
       "HBox(children=(HTML(value=''), FloatProgress(value=0.0, max=200.0), HTML(value='')))"
      ]
     },
     "metadata": {},
     "output_type": "display_data"
    },
    {
     "name": "stdout",
     "output_type": "stream",
     "text": [
      "\n",
      "Train Loss: 3.0661 Acc: 0.7181\n"
     ]
    },
    {
     "data": {
      "application/vnd.jupyter.widget-view+json": {
       "model_id": "df0ae4938b454f069d4a795ae4750292",
       "version_major": 2,
       "version_minor": 0
      },
      "text/plain": [
       "HBox(children=(HTML(value=''), FloatProgress(value=0.0, max=125.0), HTML(value='')))"
      ]
     },
     "metadata": {},
     "output_type": "display_data"
    },
    {
     "name": "stdout",
     "output_type": "stream",
     "text": [
      "\n",
      "Accuracy on LFW: 0.7579+-0.0330\n",
      "Precision 0.7413+-0.7413\n",
      "Recall 0.7923+-0.7923\n",
      "F1-score: 0.7660+-0.7660\n",
      "ROC Area Under Curve: 0.8340\n",
      "Best distance threshold: 1.09+-0.01\n",
      "TAR: 0.0540+-0.0228 @ FAR: 0.0015\n",
      "Epoch 107/169\n",
      "--------------------\n"
     ]
    },
    {
     "data": {
      "application/vnd.jupyter.widget-view+json": {
       "model_id": "50cc3bae4db2401492cfda9d08db25a8",
       "version_major": 2,
       "version_minor": 0
      },
      "text/plain": [
       "HBox(children=(HTML(value=''), FloatProgress(value=0.0, max=200.0), HTML(value='')))"
      ]
     },
     "metadata": {},
     "output_type": "display_data"
    },
    {
     "name": "stdout",
     "output_type": "stream",
     "text": [
      "\n",
      "Train Loss: 2.9362 Acc: 0.7247\n"
     ]
    },
    {
     "data": {
      "application/vnd.jupyter.widget-view+json": {
       "model_id": "25a78b002b2e4ecb978dcea1c21fa986",
       "version_major": 2,
       "version_minor": 0
      },
      "text/plain": [
       "HBox(children=(HTML(value=''), FloatProgress(value=0.0, max=125.0), HTML(value='')))"
      ]
     },
     "metadata": {},
     "output_type": "display_data"
    },
    {
     "name": "stdout",
     "output_type": "stream",
     "text": [
      "\n",
      "Accuracy on LFW: 0.7669+-0.0296\n",
      "Precision 0.7510+-0.7510\n",
      "Recall 0.7994+-0.7994\n",
      "F1-score: 0.7744+-0.7744\n",
      "ROC Area Under Curve: 0.8462\n",
      "Best distance threshold: 1.12+-0.01\n",
      "TAR: 0.0330+-0.0119 @ FAR: 0.0010\n",
      "Epoch 108/169\n",
      "--------------------\n"
     ]
    },
    {
     "data": {
      "application/vnd.jupyter.widget-view+json": {
       "model_id": "0ee6a0b35a5346bebe690359a70a7c4e",
       "version_major": 2,
       "version_minor": 0
      },
      "text/plain": [
       "HBox(children=(HTML(value=''), FloatProgress(value=0.0, max=200.0), HTML(value='')))"
      ]
     },
     "metadata": {},
     "output_type": "display_data"
    },
    {
     "name": "stdout",
     "output_type": "stream",
     "text": [
      "\n",
      "Train Loss: 3.0293 Acc: 0.7222\n"
     ]
    },
    {
     "data": {
      "application/vnd.jupyter.widget-view+json": {
       "model_id": "4767eb3bf3a041ecb356b4c3b3bb0501",
       "version_major": 2,
       "version_minor": 0
      },
      "text/plain": [
       "HBox(children=(HTML(value=''), FloatProgress(value=0.0, max=125.0), HTML(value='')))"
      ]
     },
     "metadata": {},
     "output_type": "display_data"
    },
    {
     "name": "stdout",
     "output_type": "stream",
     "text": [
      "\n",
      "Accuracy on LFW: 0.7714+-0.0246\n",
      "Precision 0.7597+-0.7597\n",
      "Recall 0.7944+-0.7944\n",
      "F1-score: 0.7766+-0.7766\n",
      "ROC Area Under Curve: 0.8431\n",
      "Best distance threshold: 1.16+-0.00\n",
      "TAR: 0.0400+-0.0138 @ FAR: 0.0015\n",
      "Epoch 109/169\n",
      "--------------------\n"
     ]
    },
    {
     "data": {
      "application/vnd.jupyter.widget-view+json": {
       "model_id": "97efb37662dd4aba920a2cb165a56c27",
       "version_major": 2,
       "version_minor": 0
      },
      "text/plain": [
       "HBox(children=(HTML(value=''), FloatProgress(value=0.0, max=200.0), HTML(value='')))"
      ]
     },
     "metadata": {},
     "output_type": "display_data"
    },
    {
     "name": "stdout",
     "output_type": "stream",
     "text": [
      "\n",
      "Train Loss: 2.8462 Acc: 0.7305\n"
     ]
    },
    {
     "data": {
      "application/vnd.jupyter.widget-view+json": {
       "model_id": "a80c5f6ce0b24cadb294fab40830103d",
       "version_major": 2,
       "version_minor": 0
      },
      "text/plain": [
       "HBox(children=(HTML(value=''), FloatProgress(value=0.0, max=125.0), HTML(value='')))"
      ]
     },
     "metadata": {},
     "output_type": "display_data"
    },
    {
     "name": "stdout",
     "output_type": "stream",
     "text": [
      "\n",
      "Accuracy on LFW: 0.7659+-0.0283\n",
      "Precision 0.7794+-0.7794\n",
      "Recall 0.7414+-0.7414\n",
      "F1-score: 0.7599+-0.7599\n",
      "ROC Area Under Curve: 0.8425\n",
      "Best distance threshold: 1.04+-0.02\n",
      "TAR: 0.0420+-0.0142 @ FAR: 0.0010\n",
      "Epoch 110/169\n",
      "--------------------\n"
     ]
    },
    {
     "data": {
      "application/vnd.jupyter.widget-view+json": {
       "model_id": "dc4dc24fc84c434497dcce01f9964c91",
       "version_major": 2,
       "version_minor": 0
      },
      "text/plain": [
       "HBox(children=(HTML(value=''), FloatProgress(value=0.0, max=200.0), HTML(value='')))"
      ]
     },
     "metadata": {},
     "output_type": "display_data"
    },
    {
     "name": "stdout",
     "output_type": "stream",
     "text": [
      "\n",
      "Train Loss: 2.8439 Acc: 0.7344\n"
     ]
    },
    {
     "data": {
      "application/vnd.jupyter.widget-view+json": {
       "model_id": "16d416d59610442685739f8096b830bf",
       "version_major": 2,
       "version_minor": 0
      },
      "text/plain": [
       "HBox(children=(HTML(value=''), FloatProgress(value=0.0, max=125.0), HTML(value='')))"
      ]
     },
     "metadata": {},
     "output_type": "display_data"
    },
    {
     "name": "stdout",
     "output_type": "stream",
     "text": [
      "\n",
      "Accuracy on LFW: 0.7594+-0.0259\n",
      "Precision 0.7600+-0.7600\n",
      "Recall 0.7589+-0.7589\n",
      "F1-score: 0.7594+-0.7594\n",
      "ROC Area Under Curve: 0.8354\n",
      "Best distance threshold: 1.10+-0.01\n",
      "TAR: 0.0515+-0.0184 @ FAR: 0.0010\n",
      "Epoch 111/169\n",
      "--------------------\n"
     ]
    },
    {
     "data": {
      "application/vnd.jupyter.widget-view+json": {
       "model_id": "2e6d2524ac5545a88fd696fef1d0b27e",
       "version_major": 2,
       "version_minor": 0
      },
      "text/plain": [
       "HBox(children=(HTML(value=''), FloatProgress(value=0.0, max=200.0), HTML(value='')))"
      ]
     },
     "metadata": {},
     "output_type": "display_data"
    },
    {
     "name": "stdout",
     "output_type": "stream",
     "text": [
      "\n",
      "Train Loss: 2.8114 Acc: 0.7312\n"
     ]
    },
    {
     "data": {
      "application/vnd.jupyter.widget-view+json": {
       "model_id": "042abbc51ee141b8bc9e925a38f7db34",
       "version_major": 2,
       "version_minor": 0
      },
      "text/plain": [
       "HBox(children=(HTML(value=''), FloatProgress(value=0.0, max=125.0), HTML(value='')))"
      ]
     },
     "metadata": {},
     "output_type": "display_data"
    },
    {
     "name": "stdout",
     "output_type": "stream",
     "text": [
      "\n",
      "Accuracy on LFW: 0.7707+-0.0247\n",
      "Precision 0.7744+-0.7744\n",
      "Recall 0.7639+-0.7639\n",
      "F1-score: 0.7691+-0.7691\n",
      "ROC Area Under Curve: 0.8342\n",
      "Best distance threshold: 1.13+-0.00\n",
      "TAR: 0.0245+-0.0101 @ FAR: 0.0010\n",
      "Epoch 112/169\n",
      "--------------------\n"
     ]
    },
    {
     "data": {
      "application/vnd.jupyter.widget-view+json": {
       "model_id": "f5fa47d250a44702931a8971fe68498e",
       "version_major": 2,
       "version_minor": 0
      },
      "text/plain": [
       "HBox(children=(HTML(value=''), FloatProgress(value=0.0, max=200.0), HTML(value='')))"
      ]
     },
     "metadata": {},
     "output_type": "display_data"
    },
    {
     "name": "stdout",
     "output_type": "stream",
     "text": [
      "\n",
      "Train Loss: 2.8523 Acc: 0.7283\n"
     ]
    },
    {
     "data": {
      "application/vnd.jupyter.widget-view+json": {
       "model_id": "e10e87c9200240debd0558fb6a28746a",
       "version_major": 2,
       "version_minor": 0
      },
      "text/plain": [
       "HBox(children=(HTML(value=''), FloatProgress(value=0.0, max=125.0), HTML(value='')))"
      ]
     },
     "metadata": {},
     "output_type": "display_data"
    },
    {
     "name": "stdout",
     "output_type": "stream",
     "text": [
      "\n",
      "Accuracy on LFW: 0.7574+-0.0151\n",
      "Precision 0.7689+-0.7689\n",
      "Recall 0.7379+-0.7379\n",
      "F1-score: 0.7531+-0.7531\n",
      "ROC Area Under Curve: 0.8411\n",
      "Best distance threshold: 1.08+-0.03\n",
      "TAR: 0.0290+-0.0118 @ FAR: 0.0010\n",
      "Epoch 113/169\n",
      "--------------------\n"
     ]
    },
    {
     "data": {
      "application/vnd.jupyter.widget-view+json": {
       "model_id": "d550cddbda4c49228b048d639bdcb24c",
       "version_major": 2,
       "version_minor": 0
      },
      "text/plain": [
       "HBox(children=(HTML(value=''), FloatProgress(value=0.0, max=200.0), HTML(value='')))"
      ]
     },
     "metadata": {},
     "output_type": "display_data"
    },
    {
     "name": "stdout",
     "output_type": "stream",
     "text": [
      "\n",
      "Train Loss: 2.6702 Acc: 0.7442\n"
     ]
    },
    {
     "data": {
      "application/vnd.jupyter.widget-view+json": {
       "model_id": "2e26579cb9214110887c763256319950",
       "version_major": 2,
       "version_minor": 0
      },
      "text/plain": [
       "HBox(children=(HTML(value=''), FloatProgress(value=0.0, max=125.0), HTML(value='')))"
      ]
     },
     "metadata": {},
     "output_type": "display_data"
    },
    {
     "name": "stdout",
     "output_type": "stream",
     "text": [
      "\n",
      "Accuracy on LFW: 0.7584+-0.0269\n",
      "Precision 0.7483+-0.7483\n",
      "Recall 0.7824+-0.7824\n",
      "F1-score: 0.7649+-0.7649\n",
      "ROC Area Under Curve: 0.8389\n",
      "Best distance threshold: 1.14+-0.05\n",
      "TAR: 0.0050+-0.0039 @ FAR: 0.0010\n",
      "Epoch 114/169\n",
      "--------------------\n"
     ]
    },
    {
     "data": {
      "application/vnd.jupyter.widget-view+json": {
       "model_id": "0b2e42b928ad41e7bdd5e10410219494",
       "version_major": 2,
       "version_minor": 0
      },
      "text/plain": [
       "HBox(children=(HTML(value=''), FloatProgress(value=0.0, max=200.0), HTML(value='')))"
      ]
     },
     "metadata": {},
     "output_type": "display_data"
    },
    {
     "name": "stdout",
     "output_type": "stream",
     "text": [
      "\n",
      "Train Loss: 2.6544 Acc: 0.7459\n"
     ]
    },
    {
     "data": {
      "application/vnd.jupyter.widget-view+json": {
       "model_id": "9afd9c2ab0274388a021bcd01ddd1438",
       "version_major": 2,
       "version_minor": 0
      },
      "text/plain": [
       "HBox(children=(HTML(value=''), FloatProgress(value=0.0, max=125.0), HTML(value='')))"
      ]
     },
     "metadata": {},
     "output_type": "display_data"
    },
    {
     "name": "stdout",
     "output_type": "stream",
     "text": [
      "\n",
      "Accuracy on LFW: 0.7769+-0.0267\n",
      "Precision 0.7606+-0.7606\n",
      "Recall 0.8084+-0.8084\n",
      "F1-score: 0.7838+-0.7838\n",
      "ROC Area Under Curve: 0.8468\n",
      "Best distance threshold: 1.14+-0.00\n",
      "TAR: 0.0330+-0.0081 @ FAR: 0.0010\n",
      "Epoch 115/169\n",
      "--------------------\n"
     ]
    },
    {
     "data": {
      "application/vnd.jupyter.widget-view+json": {
       "model_id": "eb03ff24a63e4e28a6dbead3207584e8",
       "version_major": 2,
       "version_minor": 0
      },
      "text/plain": [
       "HBox(children=(HTML(value=''), FloatProgress(value=0.0, max=200.0), HTML(value='')))"
      ]
     },
     "metadata": {},
     "output_type": "display_data"
    },
    {
     "name": "stdout",
     "output_type": "stream",
     "text": [
      "\n",
      "Train Loss: 2.5580 Acc: 0.7444\n"
     ]
    },
    {
     "data": {
      "application/vnd.jupyter.widget-view+json": {
       "model_id": "b65dfab19cef444cbce31da653e6c418",
       "version_major": 2,
       "version_minor": 0
      },
      "text/plain": [
       "HBox(children=(HTML(value=''), FloatProgress(value=0.0, max=125.0), HTML(value='')))"
      ]
     },
     "metadata": {},
     "output_type": "display_data"
    },
    {
     "name": "stdout",
     "output_type": "stream",
     "text": [
      "\n",
      "Accuracy on LFW: 0.7652+-0.0203\n",
      "Precision 0.7862+-0.7862\n",
      "Recall 0.7293+-0.7293\n",
      "F1-score: 0.7567+-0.7567\n",
      "ROC Area Under Curve: 0.8401\n",
      "Best distance threshold: 1.06+-0.03\n",
      "TAR: 0.0315+-0.0236 @ FAR: 0.0010\n",
      "Epoch 116/169\n",
      "--------------------\n"
     ]
    },
    {
     "data": {
      "application/vnd.jupyter.widget-view+json": {
       "model_id": "6eaf3ae6008d48a183818894aafbaeaa",
       "version_major": 2,
       "version_minor": 0
      },
      "text/plain": [
       "HBox(children=(HTML(value=''), FloatProgress(value=0.0, max=200.0), HTML(value='')))"
      ]
     },
     "metadata": {},
     "output_type": "display_data"
    },
    {
     "name": "stdout",
     "output_type": "stream",
     "text": [
      "\n",
      "Train Loss: 2.5924 Acc: 0.7484\n"
     ]
    },
    {
     "data": {
      "application/vnd.jupyter.widget-view+json": {
       "model_id": "965edf7f1fb343479168387630b2f9cd",
       "version_major": 2,
       "version_minor": 0
      },
      "text/plain": [
       "HBox(children=(HTML(value=''), FloatProgress(value=0.0, max=125.0), HTML(value='')))"
      ]
     },
     "metadata": {},
     "output_type": "display_data"
    },
    {
     "name": "stdout",
     "output_type": "stream",
     "text": [
      "\n",
      "Accuracy on LFW: 0.7679+-0.0311\n",
      "Precision 0.7486+-0.7486\n",
      "Recall 0.8074+-0.8074\n",
      "F1-score: 0.7769+-0.7769\n",
      "ROC Area Under Curve: 0.8477\n",
      "Best distance threshold: 1.16+-0.02\n",
      "TAR: 0.0445+-0.0203 @ FAR: 0.0010\n",
      "Epoch 117/169\n",
      "--------------------\n"
     ]
    },
    {
     "data": {
      "application/vnd.jupyter.widget-view+json": {
       "model_id": "3a88557f83a34fbcbc9e9ad8f1e186b8",
       "version_major": 2,
       "version_minor": 0
      },
      "text/plain": [
       "HBox(children=(HTML(value=''), FloatProgress(value=0.0, max=200.0), HTML(value='')))"
      ]
     },
     "metadata": {},
     "output_type": "display_data"
    },
    {
     "name": "stdout",
     "output_type": "stream",
     "text": [
      "\n",
      "Train Loss: 2.4355 Acc: 0.7508\n"
     ]
    },
    {
     "data": {
      "application/vnd.jupyter.widget-view+json": {
       "model_id": "1bffe6bc143043e49b158c58b80eeb47",
       "version_major": 2,
       "version_minor": 0
      },
      "text/plain": [
       "HBox(children=(HTML(value=''), FloatProgress(value=0.0, max=125.0), HTML(value='')))"
      ]
     },
     "metadata": {},
     "output_type": "display_data"
    },
    {
     "name": "stdout",
     "output_type": "stream",
     "text": [
      "\n",
      "Accuracy on LFW: 0.7654+-0.0255\n",
      "Precision 0.7637+-0.7637\n",
      "Recall 0.7689+-0.7689\n",
      "F1-score: 0.7663+-0.7663\n",
      "ROC Area Under Curve: 0.8496\n",
      "Best distance threshold: 1.09+-0.03\n",
      "TAR: 0.0275+-0.0081 @ FAR: 0.0010\n",
      "Epoch 118/169\n",
      "--------------------\n"
     ]
    },
    {
     "data": {
      "application/vnd.jupyter.widget-view+json": {
       "model_id": "9fad78825a3a4c14adbf378385ca06d2",
       "version_major": 2,
       "version_minor": 0
      },
      "text/plain": [
       "HBox(children=(HTML(value=''), FloatProgress(value=0.0, max=200.0), HTML(value='')))"
      ]
     },
     "metadata": {},
     "output_type": "display_data"
    },
    {
     "name": "stdout",
     "output_type": "stream",
     "text": [
      "\n",
      "Train Loss: 2.4499 Acc: 0.7555\n"
     ]
    },
    {
     "data": {
      "application/vnd.jupyter.widget-view+json": {
       "model_id": "bc42b38f6ef746e7839cd310737e1eae",
       "version_major": 2,
       "version_minor": 0
      },
      "text/plain": [
       "HBox(children=(HTML(value=''), FloatProgress(value=0.0, max=125.0), HTML(value='')))"
      ]
     },
     "metadata": {},
     "output_type": "display_data"
    },
    {
     "name": "stdout",
     "output_type": "stream",
     "text": [
      "\n",
      "Accuracy on LFW: 0.7704+-0.0204\n",
      "Precision 0.7888+-0.7888\n",
      "Recall 0.7394+-0.7394\n",
      "F1-score: 0.7633+-0.7633\n",
      "ROC Area Under Curve: 0.8466\n",
      "Best distance threshold: 1.04+-0.01\n",
      "TAR: 0.0425+-0.0157 @ FAR: 0.0015\n",
      "Epoch 119/169\n",
      "--------------------\n"
     ]
    },
    {
     "data": {
      "application/vnd.jupyter.widget-view+json": {
       "model_id": "135b4d59867f47d6a46fee91dd98c7a1",
       "version_major": 2,
       "version_minor": 0
      },
      "text/plain": [
       "HBox(children=(HTML(value=''), FloatProgress(value=0.0, max=200.0), HTML(value='')))"
      ]
     },
     "metadata": {},
     "output_type": "display_data"
    },
    {
     "name": "stdout",
     "output_type": "stream",
     "text": [
      "\n",
      "Train Loss: 2.4711 Acc: 0.7511\n"
     ]
    },
    {
     "data": {
      "application/vnd.jupyter.widget-view+json": {
       "model_id": "cf9d2546f4884d95aebcfe0a88694973",
       "version_major": 2,
       "version_minor": 0
      },
      "text/plain": [
       "HBox(children=(HTML(value=''), FloatProgress(value=0.0, max=125.0), HTML(value='')))"
      ]
     },
     "metadata": {},
     "output_type": "display_data"
    },
    {
     "name": "stdout",
     "output_type": "stream",
     "text": [
      "\n",
      "Accuracy on LFW: 0.7719+-0.0313\n",
      "Precision 0.7742+-0.7742\n",
      "Recall 0.7684+-0.7684\n",
      "F1-score: 0.7713+-0.7713\n",
      "ROC Area Under Curve: 0.8499\n",
      "Best distance threshold: 1.06+-0.01\n",
      "TAR: 0.0225+-0.0155 @ FAR: 0.0015\n",
      "Epoch 120/169\n",
      "--------------------\n"
     ]
    },
    {
     "data": {
      "application/vnd.jupyter.widget-view+json": {
       "model_id": "31235b87a19d487b84152a1250a5bbd8",
       "version_major": 2,
       "version_minor": 0
      },
      "text/plain": [
       "HBox(children=(HTML(value=''), FloatProgress(value=0.0, max=200.0), HTML(value='')))"
      ]
     },
     "metadata": {},
     "output_type": "display_data"
    },
    {
     "name": "stdout",
     "output_type": "stream",
     "text": [
      "\n",
      "Train Loss: 2.3659 Acc: 0.7545\n"
     ]
    },
    {
     "data": {
      "application/vnd.jupyter.widget-view+json": {
       "model_id": "e7cf73b4e8fc499db82ede73024ff74d",
       "version_major": 2,
       "version_minor": 0
      },
      "text/plain": [
       "HBox(children=(HTML(value=''), FloatProgress(value=0.0, max=125.0), HTML(value='')))"
      ]
     },
     "metadata": {},
     "output_type": "display_data"
    },
    {
     "name": "stdout",
     "output_type": "stream",
     "text": [
      "\n",
      "Accuracy on LFW: 0.7809+-0.0172\n",
      "Precision 0.7810+-0.7810\n",
      "Recall 0.7814+-0.7814\n",
      "F1-score: 0.7812+-0.7812\n",
      "ROC Area Under Curve: 0.8497\n",
      "Best distance threshold: 1.09+-0.00\n",
      "TAR: 0.0600+-0.0250 @ FAR: 0.0010\n",
      "Epoch 121/169\n",
      "--------------------\n"
     ]
    },
    {
     "data": {
      "application/vnd.jupyter.widget-view+json": {
       "model_id": "7b2db44696c647f7a1dd0f72b1dcbda7",
       "version_major": 2,
       "version_minor": 0
      },
      "text/plain": [
       "HBox(children=(HTML(value=''), FloatProgress(value=0.0, max=200.0), HTML(value='')))"
      ]
     },
     "metadata": {},
     "output_type": "display_data"
    },
    {
     "name": "stdout",
     "output_type": "stream",
     "text": [
      "\n",
      "Train Loss: 2.4531 Acc: 0.7550\n"
     ]
    },
    {
     "data": {
      "application/vnd.jupyter.widget-view+json": {
       "model_id": "e817001f83fc4d4fb06786cf7ef0832f",
       "version_major": 2,
       "version_minor": 0
      },
      "text/plain": [
       "HBox(children=(HTML(value=''), FloatProgress(value=0.0, max=125.0), HTML(value='')))"
      ]
     },
     "metadata": {},
     "output_type": "display_data"
    },
    {
     "name": "stdout",
     "output_type": "stream",
     "text": [
      "\n",
      "Accuracy on LFW: 0.7754+-0.0244\n",
      "Precision 0.7595+-0.7595\n",
      "Recall 0.8059+-0.8059\n",
      "F1-score: 0.7820+-0.7820\n",
      "ROC Area Under Curve: 0.8518\n",
      "Best distance threshold: 1.16+-0.01\n",
      "TAR: 0.0420+-0.0119 @ FAR: 0.0010\n",
      "Epoch 122/169\n",
      "--------------------\n"
     ]
    },
    {
     "data": {
      "application/vnd.jupyter.widget-view+json": {
       "model_id": "1d51a5ee7f094f1583ac24db2ef6f3b7",
       "version_major": 2,
       "version_minor": 0
      },
      "text/plain": [
       "HBox(children=(HTML(value=''), FloatProgress(value=0.0, max=200.0), HTML(value='')))"
      ]
     },
     "metadata": {},
     "output_type": "display_data"
    },
    {
     "name": "stdout",
     "output_type": "stream",
     "text": [
      "\n",
      "Train Loss: 2.2941 Acc: 0.7681\n"
     ]
    },
    {
     "data": {
      "application/vnd.jupyter.widget-view+json": {
       "model_id": "a9d1d4b2fede480ab6f7751e08959049",
       "version_major": 2,
       "version_minor": 0
      },
      "text/plain": [
       "HBox(children=(HTML(value=''), FloatProgress(value=0.0, max=125.0), HTML(value='')))"
      ]
     },
     "metadata": {},
     "output_type": "display_data"
    },
    {
     "name": "stdout",
     "output_type": "stream",
     "text": [
      "\n",
      "Accuracy on LFW: 0.7684+-0.0263\n",
      "Precision 0.7530+-0.7530\n",
      "Recall 0.7994+-0.7994\n",
      "F1-score: 0.7755+-0.7755\n",
      "ROC Area Under Curve: 0.8473\n",
      "Best distance threshold: 1.15+-0.01\n",
      "TAR: 0.0255+-0.0129 @ FAR: 0.0015\n",
      "Epoch 123/169\n",
      "--------------------\n"
     ]
    },
    {
     "data": {
      "application/vnd.jupyter.widget-view+json": {
       "model_id": "6ff9c89d2cc74286b4310b028767bd94",
       "version_major": 2,
       "version_minor": 0
      },
      "text/plain": [
       "HBox(children=(HTML(value=''), FloatProgress(value=0.0, max=200.0), HTML(value='')))"
      ]
     },
     "metadata": {},
     "output_type": "display_data"
    },
    {
     "name": "stdout",
     "output_type": "stream",
     "text": [
      "\n",
      "Train Loss: 2.2339 Acc: 0.7686\n"
     ]
    },
    {
     "data": {
      "application/vnd.jupyter.widget-view+json": {
       "model_id": "f18a5a94e02f4086a807281a0aabf377",
       "version_major": 2,
       "version_minor": 0
      },
      "text/plain": [
       "HBox(children=(HTML(value=''), FloatProgress(value=0.0, max=125.0), HTML(value='')))"
      ]
     },
     "metadata": {},
     "output_type": "display_data"
    },
    {
     "name": "stdout",
     "output_type": "stream",
     "text": [
      "\n",
      "Accuracy on LFW: 0.7624+-0.0215\n",
      "Precision 0.7781+-0.7781\n",
      "Recall 0.7364+-0.7364\n",
      "F1-score: 0.7567+-0.7567\n",
      "ROC Area Under Curve: 0.8430\n",
      "Best distance threshold: 1.08+-0.04\n",
      "TAR: 0.0415+-0.0195 @ FAR: 0.0010\n",
      "Epoch 124/169\n",
      "--------------------\n"
     ]
    },
    {
     "data": {
      "application/vnd.jupyter.widget-view+json": {
       "model_id": "edd088adae0f425bb101bfbc294500ed",
       "version_major": 2,
       "version_minor": 0
      },
      "text/plain": [
       "HBox(children=(HTML(value=''), FloatProgress(value=0.0, max=200.0), HTML(value='')))"
      ]
     },
     "metadata": {},
     "output_type": "display_data"
    },
    {
     "name": "stdout",
     "output_type": "stream",
     "text": [
      "\n",
      "Train Loss: 2.2273 Acc: 0.7692\n"
     ]
    },
    {
     "data": {
      "application/vnd.jupyter.widget-view+json": {
       "model_id": "c326ead802f147479a67f72867dd981e",
       "version_major": 2,
       "version_minor": 0
      },
      "text/plain": [
       "HBox(children=(HTML(value=''), FloatProgress(value=0.0, max=125.0), HTML(value='')))"
      ]
     },
     "metadata": {},
     "output_type": "display_data"
    },
    {
     "name": "stdout",
     "output_type": "stream",
     "text": [
      "\n",
      "Accuracy on LFW: 0.7722+-0.0260\n",
      "Precision 0.7795+-0.7795\n",
      "Recall 0.7609+-0.7609\n",
      "F1-score: 0.7701+-0.7701\n",
      "ROC Area Under Curve: 0.8491\n",
      "Best distance threshold: 1.12+-0.04\n",
      "TAR: 0.0360+-0.0124 @ FAR: 0.0010\n",
      "Epoch 125/169\n",
      "--------------------\n"
     ]
    },
    {
     "data": {
      "application/vnd.jupyter.widget-view+json": {
       "model_id": "53a7028e422c478a9c515035c00932d3",
       "version_major": 2,
       "version_minor": 0
      },
      "text/plain": [
       "HBox(children=(HTML(value=''), FloatProgress(value=0.0, max=200.0), HTML(value='')))"
      ]
     },
     "metadata": {},
     "output_type": "display_data"
    },
    {
     "name": "stdout",
     "output_type": "stream",
     "text": [
      "\n",
      "Train Loss: 2.2493 Acc: 0.7675\n"
     ]
    },
    {
     "data": {
      "application/vnd.jupyter.widget-view+json": {
       "model_id": "5301a5b0409843fb99925b3d22cd6eb4",
       "version_major": 2,
       "version_minor": 0
      },
      "text/plain": [
       "HBox(children=(HTML(value=''), FloatProgress(value=0.0, max=125.0), HTML(value='')))"
      ]
     },
     "metadata": {},
     "output_type": "display_data"
    },
    {
     "name": "stdout",
     "output_type": "stream",
     "text": [
      "\n",
      "Accuracy on LFW: 0.7757+-0.0215\n",
      "Precision 0.7998+-0.7998\n",
      "Recall 0.7354+-0.7354\n",
      "F1-score: 0.7662+-0.7662\n",
      "ROC Area Under Curve: 0.8514\n",
      "Best distance threshold: 1.07+-0.01\n",
      "TAR: 0.0225+-0.0103 @ FAR: 0.0015\n",
      "Epoch 126/169\n",
      "--------------------\n"
     ]
    },
    {
     "data": {
      "application/vnd.jupyter.widget-view+json": {
       "model_id": "b4f36de36cca444581b7970cc49c223a",
       "version_major": 2,
       "version_minor": 0
      },
      "text/plain": [
       "HBox(children=(HTML(value=''), FloatProgress(value=0.0, max=200.0), HTML(value='')))"
      ]
     },
     "metadata": {},
     "output_type": "display_data"
    },
    {
     "name": "stdout",
     "output_type": "stream",
     "text": [
      "\n",
      "Train Loss: 2.3427 Acc: 0.7631\n"
     ]
    },
    {
     "data": {
      "application/vnd.jupyter.widget-view+json": {
       "model_id": "1126d02f39bd48d78cca83cfdc10db94",
       "version_major": 2,
       "version_minor": 0
      },
      "text/plain": [
       "HBox(children=(HTML(value=''), FloatProgress(value=0.0, max=125.0), HTML(value='')))"
      ]
     },
     "metadata": {},
     "output_type": "display_data"
    },
    {
     "name": "stdout",
     "output_type": "stream",
     "text": [
      "\n",
      "Accuracy on LFW: 0.7707+-0.0279\n",
      "Precision 0.7642+-0.7642\n",
      "Recall 0.7834+-0.7834\n",
      "F1-score: 0.7737+-0.7737\n",
      "ROC Area Under Curve: 0.8551\n",
      "Best distance threshold: 1.08+-0.05\n",
      "TAR: 0.0525+-0.0145 @ FAR: 0.0010\n",
      "Epoch 127/169\n",
      "--------------------\n"
     ]
    },
    {
     "data": {
      "application/vnd.jupyter.widget-view+json": {
       "model_id": "cb40f3cf871244abac3363dc58cb6d48",
       "version_major": 2,
       "version_minor": 0
      },
      "text/plain": [
       "HBox(children=(HTML(value=''), FloatProgress(value=0.0, max=200.0), HTML(value='')))"
      ]
     },
     "metadata": {},
     "output_type": "display_data"
    },
    {
     "name": "stdout",
     "output_type": "stream",
     "text": [
      "\n",
      "Train Loss: 2.3349 Acc: 0.7647\n"
     ]
    },
    {
     "data": {
      "application/vnd.jupyter.widget-view+json": {
       "model_id": "9aa04dd1b1c74bac94bd3c6eefec0501",
       "version_major": 2,
       "version_minor": 0
      },
      "text/plain": [
       "HBox(children=(HTML(value=''), FloatProgress(value=0.0, max=125.0), HTML(value='')))"
      ]
     },
     "metadata": {},
     "output_type": "display_data"
    },
    {
     "name": "stdout",
     "output_type": "stream",
     "text": [
      "\n",
      "Accuracy on LFW: 0.7802+-0.0256\n",
      "Precision 0.7889+-0.7889\n",
      "Recall 0.7649+-0.7649\n",
      "F1-score: 0.7767+-0.7767\n",
      "ROC Area Under Curve: 0.8589\n",
      "Best distance threshold: 1.08+-0.02\n",
      "TAR: 0.0415+-0.0170 @ FAR: 0.0010\n",
      "Epoch 128/169\n",
      "--------------------\n"
     ]
    },
    {
     "data": {
      "application/vnd.jupyter.widget-view+json": {
       "model_id": "408c5997e8834394b13fe0c26a214046",
       "version_major": 2,
       "version_minor": 0
      },
      "text/plain": [
       "HBox(children=(HTML(value=''), FloatProgress(value=0.0, max=200.0), HTML(value='')))"
      ]
     },
     "metadata": {},
     "output_type": "display_data"
    },
    {
     "name": "stdout",
     "output_type": "stream",
     "text": [
      "\n",
      "Train Loss: 2.2474 Acc: 0.7728\n"
     ]
    },
    {
     "data": {
      "application/vnd.jupyter.widget-view+json": {
       "model_id": "f1e64e9c364f405cb6faaa7c3316f636",
       "version_major": 2,
       "version_minor": 0
      },
      "text/plain": [
       "HBox(children=(HTML(value=''), FloatProgress(value=0.0, max=125.0), HTML(value='')))"
      ]
     },
     "metadata": {},
     "output_type": "display_data"
    },
    {
     "name": "stdout",
     "output_type": "stream",
     "text": [
      "\n",
      "Accuracy on LFW: 0.7714+-0.0266\n",
      "Precision 0.7593+-0.7593\n",
      "Recall 0.7944+-0.7944\n",
      "F1-score: 0.7764+-0.7764\n",
      "ROC Area Under Curve: 0.8504\n",
      "Best distance threshold: 1.11+-0.02\n",
      "TAR: 0.0320+-0.0162 @ FAR: 0.0015\n",
      "Epoch 129/169\n",
      "--------------------\n"
     ]
    },
    {
     "data": {
      "application/vnd.jupyter.widget-view+json": {
       "model_id": "4a7eb4dcb50b4a9bb2d01b2c86e39af4",
       "version_major": 2,
       "version_minor": 0
      },
      "text/plain": [
       "HBox(children=(HTML(value=''), FloatProgress(value=0.0, max=200.0), HTML(value='')))"
      ]
     },
     "metadata": {},
     "output_type": "display_data"
    },
    {
     "name": "stdout",
     "output_type": "stream",
     "text": [
      "\n",
      "Train Loss: 2.2152 Acc: 0.7780\n"
     ]
    },
    {
     "data": {
      "application/vnd.jupyter.widget-view+json": {
       "model_id": "f23b4cf31aba4caf96b364a870e0752f",
       "version_major": 2,
       "version_minor": 0
      },
      "text/plain": [
       "HBox(children=(HTML(value=''), FloatProgress(value=0.0, max=125.0), HTML(value='')))"
      ]
     },
     "metadata": {},
     "output_type": "display_data"
    },
    {
     "name": "stdout",
     "output_type": "stream",
     "text": [
      "\n",
      "Accuracy on LFW: 0.7807+-0.0234\n",
      "Precision 0.7739+-0.7739\n",
      "Recall 0.7934+-0.7934\n",
      "F1-score: 0.7835+-0.7835\n",
      "ROC Area Under Curve: 0.8531\n",
      "Best distance threshold: 1.16+-0.01\n",
      "TAR: 0.0345+-0.0236 @ FAR: 0.0010\n",
      "Epoch 130/169\n",
      "--------------------\n"
     ]
    },
    {
     "data": {
      "application/vnd.jupyter.widget-view+json": {
       "model_id": "7d65bdb0e34644a0888565ab76614559",
       "version_major": 2,
       "version_minor": 0
      },
      "text/plain": [
       "HBox(children=(HTML(value=''), FloatProgress(value=0.0, max=200.0), HTML(value='')))"
      ]
     },
     "metadata": {},
     "output_type": "display_data"
    },
    {
     "name": "stdout",
     "output_type": "stream",
     "text": [
      "\n",
      "Train Loss: 2.3554 Acc: 0.7662\n"
     ]
    },
    {
     "data": {
      "application/vnd.jupyter.widget-view+json": {
       "model_id": "7fafed223aee4ce1b6084d007c9a5a57",
       "version_major": 2,
       "version_minor": 0
      },
      "text/plain": [
       "HBox(children=(HTML(value=''), FloatProgress(value=0.0, max=125.0), HTML(value='')))"
      ]
     },
     "metadata": {},
     "output_type": "display_data"
    },
    {
     "name": "stdout",
     "output_type": "stream",
     "text": [
      "\n",
      "Accuracy on LFW: 0.7739+-0.0213\n",
      "Precision 0.7739+-0.7739\n",
      "Recall 0.7749+-0.7749\n",
      "F1-score: 0.7744+-0.7744\n",
      "ROC Area Under Curve: 0.8501\n",
      "Best distance threshold: 1.12+-0.03\n",
      "TAR: 0.0275+-0.0193 @ FAR: 0.0010\n",
      "Epoch 131/169\n",
      "--------------------\n"
     ]
    },
    {
     "data": {
      "application/vnd.jupyter.widget-view+json": {
       "model_id": "071a88afbbf14df486bd526cd48e1b53",
       "version_major": 2,
       "version_minor": 0
      },
      "text/plain": [
       "HBox(children=(HTML(value=''), FloatProgress(value=0.0, max=200.0), HTML(value='')))"
      ]
     },
     "metadata": {},
     "output_type": "display_data"
    },
    {
     "name": "stdout",
     "output_type": "stream",
     "text": [
      "\n",
      "Train Loss: nan Acc: 0.7837\n"
     ]
    },
    {
     "data": {
      "application/vnd.jupyter.widget-view+json": {
       "model_id": "38fa4f568b044e72aa10309d0f52d316",
       "version_major": 2,
       "version_minor": 0
      },
      "text/plain": [
       "HBox(children=(HTML(value=''), FloatProgress(value=0.0, max=125.0), HTML(value='')))"
      ]
     },
     "metadata": {},
     "output_type": "display_data"
    },
    {
     "name": "stdout",
     "output_type": "stream",
     "text": [
      "\n",
      "Accuracy on LFW: 0.7779+-0.0250\n",
      "Precision 0.7865+-0.7865\n",
      "Recall 0.7634+-0.7634\n",
      "F1-score: 0.7748+-0.7748\n",
      "ROC Area Under Curve: 0.8449\n",
      "Best distance threshold: 1.14+-0.01\n",
      "TAR: 0.0435+-0.0148 @ FAR: 0.0010\n",
      "Epoch 132/169\n",
      "--------------------\n"
     ]
    },
    {
     "data": {
      "application/vnd.jupyter.widget-view+json": {
       "model_id": "c0ae5f1d6ed643a798634895a2c18e01",
       "version_major": 2,
       "version_minor": 0
      },
      "text/plain": [
       "HBox(children=(HTML(value=''), FloatProgress(value=0.0, max=200.0), HTML(value='')))"
      ]
     },
     "metadata": {},
     "output_type": "display_data"
    },
    {
     "name": "stdout",
     "output_type": "stream",
     "text": [
      "\n",
      "Train Loss: 1.9816 Acc: 0.7928\n"
     ]
    },
    {
     "data": {
      "application/vnd.jupyter.widget-view+json": {
       "model_id": "e7b6c1f656df4ce6814bfcf51d38fb16",
       "version_major": 2,
       "version_minor": 0
      },
      "text/plain": [
       "HBox(children=(HTML(value=''), FloatProgress(value=0.0, max=125.0), HTML(value='')))"
      ]
     },
     "metadata": {},
     "output_type": "display_data"
    },
    {
     "name": "stdout",
     "output_type": "stream",
     "text": [
      "\n",
      "Accuracy on LFW: 0.7759+-0.0227\n",
      "Precision 0.7769+-0.7769\n",
      "Recall 0.7749+-0.7749\n",
      "F1-score: 0.7759+-0.7759\n",
      "ROC Area Under Curve: 0.8515\n",
      "Best distance threshold: 1.09+-0.00\n",
      "TAR: 0.0210+-0.0097 @ FAR: 0.0010\n",
      "Epoch 133/169\n",
      "--------------------\n"
     ]
    },
    {
     "data": {
      "application/vnd.jupyter.widget-view+json": {
       "model_id": "03d72e974a3c4ff29d5def2f498188a0",
       "version_major": 2,
       "version_minor": 0
      },
      "text/plain": [
       "HBox(children=(HTML(value=''), FloatProgress(value=0.0, max=200.0), HTML(value='')))"
      ]
     },
     "metadata": {},
     "output_type": "display_data"
    },
    {
     "name": "stdout",
     "output_type": "stream",
     "text": [
      "\n",
      "Train Loss: 2.1009 Acc: 0.7788\n"
     ]
    },
    {
     "data": {
      "application/vnd.jupyter.widget-view+json": {
       "model_id": "4e9726d844c94be3b7cf6d5bc0d874de",
       "version_major": 2,
       "version_minor": 0
      },
      "text/plain": [
       "HBox(children=(HTML(value=''), FloatProgress(value=0.0, max=125.0), HTML(value='')))"
      ]
     },
     "metadata": {},
     "output_type": "display_data"
    },
    {
     "name": "stdout",
     "output_type": "stream",
     "text": [
      "\n",
      "Accuracy on LFW: 0.7744+-0.0216\n",
      "Precision 0.7748+-0.7748\n",
      "Recall 0.7754+-0.7754\n",
      "F1-score: 0.7751+-0.7751\n",
      "ROC Area Under Curve: 0.8568\n",
      "Best distance threshold: 1.08+-0.05\n",
      "TAR: 0.0270+-0.0143 @ FAR: 0.0010\n",
      "Epoch 134/169\n",
      "--------------------\n"
     ]
    },
    {
     "data": {
      "application/vnd.jupyter.widget-view+json": {
       "model_id": "1dd0d664ed36450e8625377e2a1354f0",
       "version_major": 2,
       "version_minor": 0
      },
      "text/plain": [
       "HBox(children=(HTML(value=''), FloatProgress(value=0.0, max=200.0), HTML(value='')))"
      ]
     },
     "metadata": {},
     "output_type": "display_data"
    },
    {
     "name": "stdout",
     "output_type": "stream",
     "text": [
      "\n",
      "Train Loss: 2.0410 Acc: 0.7861\n"
     ]
    },
    {
     "data": {
      "application/vnd.jupyter.widget-view+json": {
       "model_id": "be9b635058b0435483fe22a0f80f01f5",
       "version_major": 2,
       "version_minor": 0
      },
      "text/plain": [
       "HBox(children=(HTML(value=''), FloatProgress(value=0.0, max=125.0), HTML(value='')))"
      ]
     },
     "metadata": {},
     "output_type": "display_data"
    },
    {
     "name": "stdout",
     "output_type": "stream",
     "text": [
      "\n",
      "Accuracy on LFW: 0.7815+-0.0323\n",
      "Precision 0.7956+-0.7956\n",
      "Recall 0.7574+-0.7574\n",
      "F1-score: 0.7760+-0.7760\n",
      "ROC Area Under Curve: 0.8529\n",
      "Best distance threshold: 1.05+-0.00\n",
      "TAR: 0.0180+-0.0131 @ FAR: 0.0015\n",
      "Epoch 135/169\n",
      "--------------------\n"
     ]
    },
    {
     "data": {
      "application/vnd.jupyter.widget-view+json": {
       "model_id": "4745077ea39a472d8fe3032c2bba28b2",
       "version_major": 2,
       "version_minor": 0
      },
      "text/plain": [
       "HBox(children=(HTML(value=''), FloatProgress(value=0.0, max=200.0), HTML(value='')))"
      ]
     },
     "metadata": {},
     "output_type": "display_data"
    },
    {
     "name": "stdout",
     "output_type": "stream",
     "text": [
      "\n",
      "Train Loss: nan Acc: 0.7791\n"
     ]
    },
    {
     "data": {
      "application/vnd.jupyter.widget-view+json": {
       "model_id": "d3fb676cb8d444dfa503cdc512cc2261",
       "version_major": 2,
       "version_minor": 0
      },
      "text/plain": [
       "HBox(children=(HTML(value=''), FloatProgress(value=0.0, max=125.0), HTML(value='')))"
      ]
     },
     "metadata": {},
     "output_type": "display_data"
    },
    {
     "name": "stdout",
     "output_type": "stream",
     "text": [
      "\n",
      "Accuracy on LFW: 0.7829+-0.0196\n",
      "Precision 0.7807+-0.7807\n",
      "Recall 0.7869+-0.7869\n",
      "F1-score: 0.7838+-0.7838\n",
      "ROC Area Under Curve: 0.8602\n",
      "Best distance threshold: 1.12+-0.01\n",
      "TAR: 0.0340+-0.0188 @ FAR: 0.0010\n",
      "Epoch 136/169\n",
      "--------------------\n"
     ]
    },
    {
     "data": {
      "application/vnd.jupyter.widget-view+json": {
       "model_id": "b2c0363058094cd29435744dcbf81385",
       "version_major": 2,
       "version_minor": 0
      },
      "text/plain": [
       "HBox(children=(HTML(value=''), FloatProgress(value=0.0, max=200.0), HTML(value='')))"
      ]
     },
     "metadata": {},
     "output_type": "display_data"
    },
    {
     "name": "stdout",
     "output_type": "stream",
     "text": [
      "\n",
      "Train Loss: 1.9525 Acc: 0.8003\n"
     ]
    },
    {
     "data": {
      "application/vnd.jupyter.widget-view+json": {
       "model_id": "82c3734410d14a91a5cc0067e50a2272",
       "version_major": 2,
       "version_minor": 0
      },
      "text/plain": [
       "HBox(children=(HTML(value=''), FloatProgress(value=0.0, max=125.0), HTML(value='')))"
      ]
     },
     "metadata": {},
     "output_type": "display_data"
    },
    {
     "name": "stdout",
     "output_type": "stream",
     "text": [
      "\n",
      "Accuracy on LFW: 0.7784+-0.0285\n",
      "Precision 0.7837+-0.7837\n",
      "Recall 0.7688+-0.7688\n",
      "F1-score: 0.7762+-0.7762\n",
      "ROC Area Under Curve: 0.8502\n",
      "Best distance threshold: 1.11+-0.00\n",
      "TAR: 0.0325+-0.0189 @ FAR: 0.0015\n",
      "Epoch 137/169\n",
      "--------------------\n"
     ]
    },
    {
     "data": {
      "application/vnd.jupyter.widget-view+json": {
       "model_id": "be84fa1159d84344997d35048c0382cc",
       "version_major": 2,
       "version_minor": 0
      },
      "text/plain": [
       "HBox(children=(HTML(value=''), FloatProgress(value=0.0, max=200.0), HTML(value='')))"
      ]
     },
     "metadata": {},
     "output_type": "display_data"
    },
    {
     "name": "stdout",
     "output_type": "stream",
     "text": [
      "\n",
      "Train Loss: 2.0569 Acc: 0.7923\n"
     ]
    },
    {
     "data": {
      "application/vnd.jupyter.widget-view+json": {
       "model_id": "02a398dc601c4e39ad4841ea08a59f86",
       "version_major": 2,
       "version_minor": 0
      },
      "text/plain": [
       "HBox(children=(HTML(value=''), FloatProgress(value=0.0, max=125.0), HTML(value='')))"
      ]
     },
     "metadata": {},
     "output_type": "display_data"
    },
    {
     "name": "stdout",
     "output_type": "stream",
     "text": [
      "\n",
      "Accuracy on LFW: 0.7852+-0.0273\n",
      "Precision 0.8021+-0.8021\n",
      "Recall 0.7579+-0.7579\n",
      "F1-score: 0.7794+-0.7794\n",
      "ROC Area Under Curve: 0.8543\n",
      "Best distance threshold: 1.11+-0.01\n",
      "TAR: 0.0355+-0.0156 @ FAR: 0.0010\n",
      "Epoch 138/169\n",
      "--------------------\n"
     ]
    },
    {
     "data": {
      "application/vnd.jupyter.widget-view+json": {
       "model_id": "514e2b4fce5d411bac725c8c839ad8c9",
       "version_major": 2,
       "version_minor": 0
      },
      "text/plain": [
       "HBox(children=(HTML(value=''), FloatProgress(value=0.0, max=200.0), HTML(value='')))"
      ]
     },
     "metadata": {},
     "output_type": "display_data"
    },
    {
     "name": "stdout",
     "output_type": "stream",
     "text": [
      "\n",
      "Train Loss: 1.9970 Acc: 0.7930\n"
     ]
    },
    {
     "data": {
      "application/vnd.jupyter.widget-view+json": {
       "model_id": "0701a453202c4b7bb5b0554d48d88c02",
       "version_major": 2,
       "version_minor": 0
      },
      "text/plain": [
       "HBox(children=(HTML(value=''), FloatProgress(value=0.0, max=125.0), HTML(value='')))"
      ]
     },
     "metadata": {},
     "output_type": "display_data"
    },
    {
     "name": "stdout",
     "output_type": "stream",
     "text": [
      "\n",
      "Accuracy on LFW: 0.7704+-0.0198\n",
      "Precision 0.7532+-0.7532\n",
      "Recall 0.8049+-0.8049\n",
      "F1-score: 0.7782+-0.7782\n",
      "ROC Area Under Curve: 0.8439\n",
      "Best distance threshold: 1.21+-0.02\n",
      "TAR: 0.0365+-0.0184 @ FAR: 0.0010\n",
      "Epoch 139/169\n",
      "--------------------\n"
     ]
    },
    {
     "data": {
      "application/vnd.jupyter.widget-view+json": {
       "model_id": "410c2cffd8484521ade03fc46b04ecce",
       "version_major": 2,
       "version_minor": 0
      },
      "text/plain": [
       "HBox(children=(HTML(value=''), FloatProgress(value=0.0, max=200.0), HTML(value='')))"
      ]
     },
     "metadata": {},
     "output_type": "display_data"
    },
    {
     "name": "stdout",
     "output_type": "stream",
     "text": [
      "\n",
      "Train Loss: 1.9295 Acc: 0.7925\n"
     ]
    },
    {
     "data": {
      "application/vnd.jupyter.widget-view+json": {
       "model_id": "2a80c0a0577e4ddf91d981f090bbb098",
       "version_major": 2,
       "version_minor": 0
      },
      "text/plain": [
       "HBox(children=(HTML(value=''), FloatProgress(value=0.0, max=125.0), HTML(value='')))"
      ]
     },
     "metadata": {},
     "output_type": "display_data"
    },
    {
     "name": "stdout",
     "output_type": "stream",
     "text": [
      "\n",
      "Accuracy on LFW: 0.7839+-0.0231\n",
      "Precision 0.7726+-0.7726\n",
      "Recall 0.8049+-0.8049\n",
      "F1-score: 0.7885+-0.7885\n",
      "ROC Area Under Curve: 0.8617\n",
      "Best distance threshold: 1.10+-0.02\n",
      "TAR: 0.0520+-0.0237 @ FAR: 0.0010\n",
      "Epoch 140/169\n",
      "--------------------\n"
     ]
    },
    {
     "data": {
      "application/vnd.jupyter.widget-view+json": {
       "model_id": "8f8e539853ed415c8397f1e036032e36",
       "version_major": 2,
       "version_minor": 0
      },
      "text/plain": [
       "HBox(children=(HTML(value=''), FloatProgress(value=0.0, max=200.0), HTML(value='')))"
      ]
     },
     "metadata": {},
     "output_type": "display_data"
    },
    {
     "name": "stdout",
     "output_type": "stream",
     "text": [
      "\n",
      "Train Loss: nan Acc: 0.7953\n"
     ]
    },
    {
     "data": {
      "application/vnd.jupyter.widget-view+json": {
       "model_id": "8ec29acb539d4b929b5e71c0dc59080d",
       "version_major": 2,
       "version_minor": 0
      },
      "text/plain": [
       "HBox(children=(HTML(value=''), FloatProgress(value=0.0, max=125.0), HTML(value='')))"
      ]
     },
     "metadata": {},
     "output_type": "display_data"
    },
    {
     "name": "stdout",
     "output_type": "stream",
     "text": [
      "\n",
      "Accuracy on LFW: 0.7667+-0.0285\n",
      "Precision 0.7875+-0.7875\n",
      "Recall 0.7299+-0.7299\n",
      "F1-score: 0.7576+-0.7576\n",
      "ROC Area Under Curve: 0.8490\n",
      "Best distance threshold: 1.02+-0.02\n",
      "TAR: 0.0170+-0.0071 @ FAR: 0.0010\n",
      "Epoch 141/169\n",
      "--------------------\n"
     ]
    },
    {
     "data": {
      "application/vnd.jupyter.widget-view+json": {
       "model_id": "d2d6713b9c6b416dbe7f19908a229054",
       "version_major": 2,
       "version_minor": 0
      },
      "text/plain": [
       "HBox(children=(HTML(value=''), FloatProgress(value=0.0, max=200.0), HTML(value='')))"
      ]
     },
     "metadata": {},
     "output_type": "display_data"
    },
    {
     "name": "stdout",
     "output_type": "stream",
     "text": [
      "\n",
      "Train Loss: 1.8871 Acc: 0.7966\n"
     ]
    },
    {
     "data": {
      "application/vnd.jupyter.widget-view+json": {
       "model_id": "13544c867adc4bb39eefe6470038e231",
       "version_major": 2,
       "version_minor": 0
      },
      "text/plain": [
       "HBox(children=(HTML(value=''), FloatProgress(value=0.0, max=125.0), HTML(value='')))"
      ]
     },
     "metadata": {},
     "output_type": "display_data"
    },
    {
     "name": "stdout",
     "output_type": "stream",
     "text": [
      "\n",
      "Accuracy on LFW: 0.7802+-0.0307\n",
      "Precision 0.7780+-0.7780\n",
      "Recall 0.7844+-0.7844\n",
      "F1-score: 0.7811+-0.7811\n",
      "ROC Area Under Curve: 0.8588\n",
      "Best distance threshold: 1.11+-0.03\n",
      "TAR: 0.0320+-0.0105 @ FAR: 0.0010\n",
      "Epoch 142/169\n",
      "--------------------\n"
     ]
    },
    {
     "data": {
      "application/vnd.jupyter.widget-view+json": {
       "model_id": "446e174519cd4c4a9546fb5d796cae99",
       "version_major": 2,
       "version_minor": 0
      },
      "text/plain": [
       "HBox(children=(HTML(value=''), FloatProgress(value=0.0, max=200.0), HTML(value='')))"
      ]
     },
     "metadata": {},
     "output_type": "display_data"
    },
    {
     "name": "stdout",
     "output_type": "stream",
     "text": [
      "\n",
      "Train Loss: 1.8540 Acc: 0.7969\n"
     ]
    },
    {
     "data": {
      "application/vnd.jupyter.widget-view+json": {
       "model_id": "90132acbd0cc47f1a950efbf2424ff88",
       "version_major": 2,
       "version_minor": 0
      },
      "text/plain": [
       "HBox(children=(HTML(value=''), FloatProgress(value=0.0, max=125.0), HTML(value='')))"
      ]
     },
     "metadata": {},
     "output_type": "display_data"
    },
    {
     "name": "stdout",
     "output_type": "stream",
     "text": [
      "\n",
      "Accuracy on LFW: 0.7764+-0.0233\n",
      "Precision 0.7667+-0.7667\n",
      "Recall 0.7949+-0.7949\n",
      "F1-score: 0.7805+-0.7805\n",
      "ROC Area Under Curve: 0.8556\n",
      "Best distance threshold: 1.14+-0.03\n",
      "TAR: 0.0615+-0.0235 @ FAR: 0.0010\n",
      "Epoch 143/169\n",
      "--------------------\n"
     ]
    },
    {
     "data": {
      "application/vnd.jupyter.widget-view+json": {
       "model_id": "d215831d9c7541288f4247f6e4f7d05f",
       "version_major": 2,
       "version_minor": 0
      },
      "text/plain": [
       "HBox(children=(HTML(value=''), FloatProgress(value=0.0, max=200.0), HTML(value='')))"
      ]
     },
     "metadata": {},
     "output_type": "display_data"
    },
    {
     "name": "stdout",
     "output_type": "stream",
     "text": [
      "\n",
      "Train Loss: 1.7688 Acc: 0.8048\n"
     ]
    },
    {
     "data": {
      "application/vnd.jupyter.widget-view+json": {
       "model_id": "ca51e4d51d954208854d27ab770c9095",
       "version_major": 2,
       "version_minor": 0
      },
      "text/plain": [
       "HBox(children=(HTML(value=''), FloatProgress(value=0.0, max=125.0), HTML(value='')))"
      ]
     },
     "metadata": {},
     "output_type": "display_data"
    },
    {
     "name": "stdout",
     "output_type": "stream",
     "text": [
      "\n",
      "Accuracy on LFW: 0.7737+-0.0218\n",
      "Precision 0.7659+-0.7659\n",
      "Recall 0.7884+-0.7884\n",
      "F1-score: 0.7770+-0.7770\n",
      "ROC Area Under Curve: 0.8536\n",
      "Best distance threshold: 1.16+-0.01\n",
      "TAR: 0.0380+-0.0262 @ FAR: 0.0010\n",
      "Epoch 144/169\n",
      "--------------------\n"
     ]
    },
    {
     "data": {
      "application/vnd.jupyter.widget-view+json": {
       "model_id": "6bf8afe919a145afa7ad1dd9d30a16c2",
       "version_major": 2,
       "version_minor": 0
      },
      "text/plain": [
       "HBox(children=(HTML(value=''), FloatProgress(value=0.0, max=200.0), HTML(value='')))"
      ]
     },
     "metadata": {},
     "output_type": "display_data"
    },
    {
     "name": "stdout",
     "output_type": "stream",
     "text": [
      "\n",
      "Train Loss: 1.8147 Acc: 0.8037\n"
     ]
    },
    {
     "data": {
      "application/vnd.jupyter.widget-view+json": {
       "model_id": "35ada32a5839439d8f00d9eb802f3d49",
       "version_major": 2,
       "version_minor": 0
      },
      "text/plain": [
       "HBox(children=(HTML(value=''), FloatProgress(value=0.0, max=125.0), HTML(value='')))"
      ]
     },
     "metadata": {},
     "output_type": "display_data"
    },
    {
     "name": "stdout",
     "output_type": "stream",
     "text": [
      "\n",
      "Accuracy on LFW: 0.7797+-0.0249\n",
      "Precision 0.7663+-0.7663\n",
      "Recall 0.8049+-0.8049\n",
      "F1-score: 0.7851+-0.7851\n",
      "ROC Area Under Curve: 0.8582\n",
      "Best distance threshold: 1.15+-0.00\n",
      "TAR: 0.0565+-0.0261 @ FAR: 0.0010\n",
      "Epoch 145/169\n",
      "--------------------\n"
     ]
    },
    {
     "data": {
      "application/vnd.jupyter.widget-view+json": {
       "model_id": "28f525c7be7d4085baddb8d90ad1e253",
       "version_major": 2,
       "version_minor": 0
      },
      "text/plain": [
       "HBox(children=(HTML(value=''), FloatProgress(value=0.0, max=200.0), HTML(value='')))"
      ]
     },
     "metadata": {},
     "output_type": "display_data"
    },
    {
     "name": "stdout",
     "output_type": "stream",
     "text": [
      "\n",
      "Train Loss: 1.7471 Acc: 0.8028\n"
     ]
    },
    {
     "data": {
      "application/vnd.jupyter.widget-view+json": {
       "model_id": "9ecfdeb6ae894de78d905814d21d31f7",
       "version_major": 2,
       "version_minor": 0
      },
      "text/plain": [
       "HBox(children=(HTML(value=''), FloatProgress(value=0.0, max=125.0), HTML(value='')))"
      ]
     },
     "metadata": {},
     "output_type": "display_data"
    },
    {
     "name": "stdout",
     "output_type": "stream",
     "text": [
      "\n",
      "Accuracy on LFW: 0.7884+-0.0144\n",
      "Precision 0.7658+-0.7658\n",
      "Recall 0.8319+-0.8319\n",
      "F1-score: 0.7975+-0.7975\n",
      "ROC Area Under Curve: 0.8603\n",
      "Best distance threshold: 1.18+-0.01\n",
      "TAR: 0.0580+-0.0455 @ FAR: 0.0010\n",
      "Epoch 146/169\n",
      "--------------------\n"
     ]
    },
    {
     "data": {
      "application/vnd.jupyter.widget-view+json": {
       "model_id": "1b9671d6e9b24a298a89d59dd92fb2d1",
       "version_major": 2,
       "version_minor": 0
      },
      "text/plain": [
       "HBox(children=(HTML(value=''), FloatProgress(value=0.0, max=200.0), HTML(value='')))"
      ]
     },
     "metadata": {},
     "output_type": "display_data"
    },
    {
     "name": "stdout",
     "output_type": "stream",
     "text": [
      "\n",
      "Train Loss: 1.7439 Acc: 0.8055\n"
     ]
    },
    {
     "data": {
      "application/vnd.jupyter.widget-view+json": {
       "model_id": "ccd8b427106a45f9bedaf2163a2284b9",
       "version_major": 2,
       "version_minor": 0
      },
      "text/plain": [
       "HBox(children=(HTML(value=''), FloatProgress(value=0.0, max=125.0), HTML(value='')))"
      ]
     },
     "metadata": {},
     "output_type": "display_data"
    },
    {
     "name": "stdout",
     "output_type": "stream",
     "text": [
      "\n",
      "Accuracy on LFW: 0.7834+-0.0270\n",
      "Precision 0.7937+-0.7937\n",
      "Recall 0.7669+-0.7669\n",
      "F1-score: 0.7801+-0.7801\n",
      "ROC Area Under Curve: 0.8517\n",
      "Best distance threshold: 1.12+-0.00\n",
      "TAR: 0.0675+-0.0292 @ FAR: 0.0010\n",
      "Epoch 147/169\n",
      "--------------------\n"
     ]
    },
    {
     "data": {
      "application/vnd.jupyter.widget-view+json": {
       "model_id": "9b7e6c00d2764a6690df2fbfaad33c77",
       "version_major": 2,
       "version_minor": 0
      },
      "text/plain": [
       "HBox(children=(HTML(value=''), FloatProgress(value=0.0, max=200.0), HTML(value='')))"
      ]
     },
     "metadata": {},
     "output_type": "display_data"
    },
    {
     "name": "stdout",
     "output_type": "stream",
     "text": [
      "\n",
      "Train Loss: 1.6833 Acc: 0.8114\n"
     ]
    },
    {
     "data": {
      "application/vnd.jupyter.widget-view+json": {
       "model_id": "c25e1acef8d54dad9aad53927f3c05bc",
       "version_major": 2,
       "version_minor": 0
      },
      "text/plain": [
       "HBox(children=(HTML(value=''), FloatProgress(value=0.0, max=125.0), HTML(value='')))"
      ]
     },
     "metadata": {},
     "output_type": "display_data"
    },
    {
     "name": "stdout",
     "output_type": "stream",
     "text": [
      "\n",
      "Accuracy on LFW: 0.7802+-0.0241\n",
      "Precision 0.8058+-0.8058\n",
      "Recall 0.7389+-0.7389\n",
      "F1-score: 0.7709+-0.7709\n",
      "ROC Area Under Curve: 0.8609\n",
      "Best distance threshold: 1.10+-0.01\n",
      "TAR: 0.0960+-0.0289 @ FAR: 0.0015\n",
      "Epoch 148/169\n",
      "--------------------\n"
     ]
    },
    {
     "data": {
      "application/vnd.jupyter.widget-view+json": {
       "model_id": "aa47ebe188494ff08af4ad6830a245c6",
       "version_major": 2,
       "version_minor": 0
      },
      "text/plain": [
       "HBox(children=(HTML(value=''), FloatProgress(value=0.0, max=200.0), HTML(value='')))"
      ]
     },
     "metadata": {},
     "output_type": "display_data"
    },
    {
     "name": "stdout",
     "output_type": "stream",
     "text": [
      "\n",
      "Train Loss: 1.7872 Acc: 0.8172\n"
     ]
    },
    {
     "data": {
      "application/vnd.jupyter.widget-view+json": {
       "model_id": "1ea89664055c447fbec7b65bf31dcda0",
       "version_major": 2,
       "version_minor": 0
      },
      "text/plain": [
       "HBox(children=(HTML(value=''), FloatProgress(value=0.0, max=125.0), HTML(value='')))"
      ]
     },
     "metadata": {},
     "output_type": "display_data"
    },
    {
     "name": "stdout",
     "output_type": "stream",
     "text": [
      "\n",
      "Accuracy on LFW: 0.7857+-0.0232\n",
      "Precision 0.7876+-0.7876\n",
      "Recall 0.7834+-0.7834\n",
      "F1-score: 0.7855+-0.7855\n",
      "ROC Area Under Curve: 0.8613\n",
      "Best distance threshold: 1.12+-0.03\n",
      "TAR: 0.0265+-0.0160 @ FAR: 0.0015\n",
      "Epoch 149/169\n",
      "--------------------\n"
     ]
    },
    {
     "data": {
      "application/vnd.jupyter.widget-view+json": {
       "model_id": "1cfcb0dcc6494456830dff3aee3d2dfa",
       "version_major": 2,
       "version_minor": 0
      },
      "text/plain": [
       "HBox(children=(HTML(value=''), FloatProgress(value=0.0, max=200.0), HTML(value='')))"
      ]
     },
     "metadata": {},
     "output_type": "display_data"
    },
    {
     "name": "stdout",
     "output_type": "stream",
     "text": [
      "\n",
      "Train Loss: 1.7050 Acc: 0.8061\n"
     ]
    },
    {
     "data": {
      "application/vnd.jupyter.widget-view+json": {
       "model_id": "2aae0e6505c04ef79dbe8244ec4142e8",
       "version_major": 2,
       "version_minor": 0
      },
      "text/plain": [
       "HBox(children=(HTML(value=''), FloatProgress(value=0.0, max=125.0), HTML(value='')))"
      ]
     },
     "metadata": {},
     "output_type": "display_data"
    },
    {
     "name": "stdout",
     "output_type": "stream",
     "text": [
      "\n",
      "Accuracy on LFW: 0.7754+-0.0297\n",
      "Precision 0.7681+-0.7681\n",
      "Recall 0.7904+-0.7904\n",
      "F1-score: 0.7791+-0.7791\n",
      "ROC Area Under Curve: 0.8590\n",
      "Best distance threshold: 1.10+-0.02\n",
      "TAR: 0.0430+-0.0150 @ FAR: 0.0020\n",
      "Epoch 150/169\n",
      "--------------------\n"
     ]
    },
    {
     "data": {
      "application/vnd.jupyter.widget-view+json": {
       "model_id": "b443f56f262b4328978a559a246156d7",
       "version_major": 2,
       "version_minor": 0
      },
      "text/plain": [
       "HBox(children=(HTML(value=''), FloatProgress(value=0.0, max=200.0), HTML(value='')))"
      ]
     },
     "metadata": {},
     "output_type": "display_data"
    },
    {
     "name": "stdout",
     "output_type": "stream",
     "text": [
      "\n",
      "Train Loss: 1.7246 Acc: 0.8063\n"
     ]
    },
    {
     "data": {
      "application/vnd.jupyter.widget-view+json": {
       "model_id": "c6b18b768c7546c88886861453a2faf2",
       "version_major": 2,
       "version_minor": 0
      },
      "text/plain": [
       "HBox(children=(HTML(value=''), FloatProgress(value=0.0, max=125.0), HTML(value='')))"
      ]
     },
     "metadata": {},
     "output_type": "display_data"
    },
    {
     "name": "stdout",
     "output_type": "stream",
     "text": [
      "\n",
      "Accuracy on LFW: 0.7827+-0.0258\n",
      "Precision 0.7902+-0.7902\n",
      "Recall 0.7699+-0.7699\n",
      "F1-score: 0.7799+-0.7799\n",
      "ROC Area Under Curve: 0.8562\n",
      "Best distance threshold: 1.08+-0.01\n",
      "TAR: 0.0450+-0.0186 @ FAR: 0.0010\n",
      "Epoch 151/169\n",
      "--------------------\n"
     ]
    },
    {
     "data": {
      "application/vnd.jupyter.widget-view+json": {
       "model_id": "0310f8289a424f54bc892a633d26b24b",
       "version_major": 2,
       "version_minor": 0
      },
      "text/plain": [
       "HBox(children=(HTML(value=''), FloatProgress(value=0.0, max=200.0), HTML(value='')))"
      ]
     },
     "metadata": {},
     "output_type": "display_data"
    },
    {
     "name": "stdout",
     "output_type": "stream",
     "text": [
      "\n",
      "Train Loss: 1.7263 Acc: 0.8139\n"
     ]
    },
    {
     "data": {
      "application/vnd.jupyter.widget-view+json": {
       "model_id": "d89e21ea32934d6d90f2dedde71b08f0",
       "version_major": 2,
       "version_minor": 0
      },
      "text/plain": [
       "HBox(children=(HTML(value=''), FloatProgress(value=0.0, max=125.0), HTML(value='')))"
      ]
     },
     "metadata": {},
     "output_type": "display_data"
    },
    {
     "name": "stdout",
     "output_type": "stream",
     "text": [
      "\n",
      "Accuracy on LFW: 0.7727+-0.0308\n",
      "Precision 0.7728+-0.7728\n",
      "Recall 0.7729+-0.7729\n",
      "F1-score: 0.7728+-0.7728\n",
      "ROC Area Under Curve: 0.8581\n",
      "Best distance threshold: 1.08+-0.05\n",
      "TAR: 0.0490+-0.0221 @ FAR: 0.0010\n",
      "Epoch 152/169\n",
      "--------------------\n"
     ]
    },
    {
     "data": {
      "application/vnd.jupyter.widget-view+json": {
       "model_id": "c33f6eeefa0143aeb064d822533cb7ed",
       "version_major": 2,
       "version_minor": 0
      },
      "text/plain": [
       "HBox(children=(HTML(value=''), FloatProgress(value=0.0, max=200.0), HTML(value='')))"
      ]
     },
     "metadata": {},
     "output_type": "display_data"
    },
    {
     "name": "stdout",
     "output_type": "stream",
     "text": [
      "\n",
      "Train Loss: nan Acc: 0.8202\n"
     ]
    },
    {
     "data": {
      "application/vnd.jupyter.widget-view+json": {
       "model_id": "83a948f54c3f4496a4775d454b777cce",
       "version_major": 2,
       "version_minor": 0
      },
      "text/plain": [
       "HBox(children=(HTML(value=''), FloatProgress(value=0.0, max=125.0), HTML(value='')))"
      ]
     },
     "metadata": {},
     "output_type": "display_data"
    },
    {
     "name": "stdout",
     "output_type": "stream",
     "text": [
      "\n",
      "Accuracy on LFW: 0.7722+-0.0233\n",
      "Precision 0.7726+-0.7726\n",
      "Recall 0.7724+-0.7724\n",
      "F1-score: 0.7725+-0.7725\n",
      "ROC Area Under Curve: 0.8516\n",
      "Best distance threshold: 1.12+-0.02\n",
      "TAR: 0.0405+-0.0146 @ FAR: 0.0010\n",
      "Epoch 153/169\n",
      "--------------------\n"
     ]
    },
    {
     "data": {
      "application/vnd.jupyter.widget-view+json": {
       "model_id": "69b55ea901b2431ca5ec4496d8a21f1a",
       "version_major": 2,
       "version_minor": 0
      },
      "text/plain": [
       "HBox(children=(HTML(value=''), FloatProgress(value=0.0, max=200.0), HTML(value='')))"
      ]
     },
     "metadata": {},
     "output_type": "display_data"
    },
    {
     "name": "stdout",
     "output_type": "stream",
     "text": [
      "\n",
      "Train Loss: nan Acc: 0.8087\n"
     ]
    },
    {
     "data": {
      "application/vnd.jupyter.widget-view+json": {
       "model_id": "3dde7dfedf774f8b8a503403033f37fa",
       "version_major": 2,
       "version_minor": 0
      },
      "text/plain": [
       "HBox(children=(HTML(value=''), FloatProgress(value=0.0, max=125.0), HTML(value='')))"
      ]
     },
     "metadata": {},
     "output_type": "display_data"
    },
    {
     "name": "stdout",
     "output_type": "stream",
     "text": [
      "\n",
      "Accuracy on LFW: 0.7842+-0.0301\n",
      "Precision 0.8003+-0.8003\n",
      "Recall 0.7569+-0.7569\n",
      "F1-score: 0.7780+-0.7780\n",
      "ROC Area Under Curve: 0.8631\n",
      "Best distance threshold: 1.06+-0.01\n",
      "TAR: 0.0325+-0.0158 @ FAR: 0.0010\n",
      "Epoch 154/169\n",
      "--------------------\n"
     ]
    },
    {
     "data": {
      "application/vnd.jupyter.widget-view+json": {
       "model_id": "c3ad8a902575486f85b47a648d0883fe",
       "version_major": 2,
       "version_minor": 0
      },
      "text/plain": [
       "HBox(children=(HTML(value=''), FloatProgress(value=0.0, max=200.0), HTML(value='')))"
      ]
     },
     "metadata": {},
     "output_type": "display_data"
    },
    {
     "name": "stdout",
     "output_type": "stream",
     "text": [
      "\n",
      "Train Loss: nan Acc: 0.8156\n"
     ]
    },
    {
     "data": {
      "application/vnd.jupyter.widget-view+json": {
       "model_id": "6ca03ec2c2474ebeaaae58933bfbb8fa",
       "version_major": 2,
       "version_minor": 0
      },
      "text/plain": [
       "HBox(children=(HTML(value=''), FloatProgress(value=0.0, max=125.0), HTML(value='')))"
      ]
     },
     "metadata": {},
     "output_type": "display_data"
    },
    {
     "name": "stdout",
     "output_type": "stream",
     "text": [
      "\n",
      "Accuracy on LFW: 0.8004+-0.0238\n",
      "Precision 0.7739+-0.7739\n",
      "Recall 0.8489+-0.8489\n",
      "F1-score: 0.8097+-0.8097\n",
      "ROC Area Under Curve: 0.8691\n",
      "Best distance threshold: 1.19+-0.00\n",
      "TAR: 0.0790+-0.0258 @ FAR: 0.0010\n",
      "Epoch 155/169\n",
      "--------------------\n"
     ]
    },
    {
     "data": {
      "application/vnd.jupyter.widget-view+json": {
       "model_id": "73b70c57d8c34b9ba136a7b912d8e260",
       "version_major": 2,
       "version_minor": 0
      },
      "text/plain": [
       "HBox(children=(HTML(value=''), FloatProgress(value=0.0, max=200.0), HTML(value='')))"
      ]
     },
     "metadata": {},
     "output_type": "display_data"
    },
    {
     "name": "stdout",
     "output_type": "stream",
     "text": [
      "\n",
      "Train Loss: 1.5629 Acc: 0.8220\n"
     ]
    },
    {
     "data": {
      "application/vnd.jupyter.widget-view+json": {
       "model_id": "e26b82ce07d848e383c2af664e4120f5",
       "version_major": 2,
       "version_minor": 0
      },
      "text/plain": [
       "HBox(children=(HTML(value=''), FloatProgress(value=0.0, max=125.0), HTML(value='')))"
      ]
     },
     "metadata": {},
     "output_type": "display_data"
    },
    {
     "name": "stdout",
     "output_type": "stream",
     "text": [
      "\n",
      "Accuracy on LFW: 0.7907+-0.0283\n",
      "Precision 0.7960+-0.7960\n",
      "Recall 0.7814+-0.7814\n",
      "F1-score: 0.7886+-0.7886\n",
      "ROC Area Under Curve: 0.8656\n",
      "Best distance threshold: 1.07+-0.00\n",
      "TAR: 0.0330+-0.0226 @ FAR: 0.0010\n",
      "Epoch 156/169\n",
      "--------------------\n"
     ]
    },
    {
     "data": {
      "application/vnd.jupyter.widget-view+json": {
       "model_id": "b3d52670e4454374a6c12348fd08d0ae",
       "version_major": 2,
       "version_minor": 0
      },
      "text/plain": [
       "HBox(children=(HTML(value=''), FloatProgress(value=0.0, max=200.0), HTML(value='')))"
      ]
     },
     "metadata": {},
     "output_type": "display_data"
    },
    {
     "name": "stdout",
     "output_type": "stream",
     "text": [
      "\n",
      "Train Loss: 1.6105 Acc: 0.8208\n"
     ]
    },
    {
     "data": {
      "application/vnd.jupyter.widget-view+json": {
       "model_id": "b1ad2395b1dd4128974fe597116e6321",
       "version_major": 2,
       "version_minor": 0
      },
      "text/plain": [
       "HBox(children=(HTML(value=''), FloatProgress(value=0.0, max=125.0), HTML(value='')))"
      ]
     },
     "metadata": {},
     "output_type": "display_data"
    },
    {
     "name": "stdout",
     "output_type": "stream",
     "text": [
      "\n",
      "Accuracy on LFW: 0.7882+-0.0260\n",
      "Precision 0.7899+-0.7899\n",
      "Recall 0.7849+-0.7849\n",
      "F1-score: 0.7874+-0.7874\n",
      "ROC Area Under Curve: 0.8572\n",
      "Best distance threshold: 1.12+-0.00\n",
      "TAR: 0.0740+-0.0210 @ FAR: 0.0010\n",
      "Epoch 157/169\n",
      "--------------------\n"
     ]
    },
    {
     "data": {
      "application/vnd.jupyter.widget-view+json": {
       "model_id": "ee28ead8574e431189031cfdb5e768e2",
       "version_major": 2,
       "version_minor": 0
      },
      "text/plain": [
       "HBox(children=(HTML(value=''), FloatProgress(value=0.0, max=200.0), HTML(value='')))"
      ]
     },
     "metadata": {},
     "output_type": "display_data"
    }
   ],
   "source": [
    "train(model, optimizer, LR_scheduler, num_epochs=70, start_epoch=curr_model_epoch, margin=0.5, prev_losses=prev_losses)"
   ]
  },
  {
   "cell_type": "code",
   "execution_count": 13,
   "metadata": {},
   "outputs": [
    {
     "name": "stdout",
     "output_type": "stream",
     "text": [
      "Epoch 90/100\n",
      "--------------------\n"
     ]
    },
    {
     "data": {
      "application/vnd.jupyter.widget-view+json": {
       "model_id": "613d15e4e50942bbaf4b3f2d3ea8a7e4",
       "version_major": 2,
       "version_minor": 0
      },
      "text/plain": [
       "HBox(children=(HTML(value=''), FloatProgress(value=0.0, max=120.0), HTML(value='')))"
      ]
     },
     "metadata": {},
     "output_type": "display_data"
    },
    {
     "name": "stdout",
     "output_type": "stream",
     "text": [
      "\n",
      "Train Loss: 3.3840 Acc: 0.6945\n"
     ]
    },
    {
     "data": {
      "application/vnd.jupyter.widget-view+json": {
       "model_id": "8856b47b86c441468f63f76d30b14262",
       "version_major": 2,
       "version_minor": 0
      },
      "text/plain": [
       "HBox(children=(HTML(value=''), FloatProgress(value=0.0, max=125.0), HTML(value='')))"
      ]
     },
     "metadata": {},
     "output_type": "display_data"
    },
    {
     "name": "stdout",
     "output_type": "stream",
     "text": [
      "\n",
      "Accuracy on LFW: 0.7509+-0.0297\n",
      "Precision 0.7525+-0.7525\n",
      "Recall 0.7489+-0.7489\n",
      "F1-score: 0.7507+-0.7507\n",
      "ROC Area Under Curve: 0.8243\n",
      "Best distance threshold: 1.08+-0.00\n",
      "TAR: 0.0200+-0.0084 @ FAR: 0.0010\n",
      "Epoch 91/100\n",
      "--------------------\n"
     ]
    },
    {
     "data": {
      "application/vnd.jupyter.widget-view+json": {
       "model_id": "77b2c32d242c4f7dafb24a514d39eb7c",
       "version_major": 2,
       "version_minor": 0
      },
      "text/plain": [
       "HBox(children=(HTML(value=''), FloatProgress(value=0.0, max=120.0), HTML(value='')))"
      ]
     },
     "metadata": {},
     "output_type": "display_data"
    },
    {
     "name": "stdout",
     "output_type": "stream",
     "text": [
      "\n",
      "Train Loss: 3.4672 Acc: 0.7031\n"
     ]
    },
    {
     "data": {
      "application/vnd.jupyter.widget-view+json": {
       "model_id": "6d26e59b369d4f918f6663b45b244d59",
       "version_major": 2,
       "version_minor": 0
      },
      "text/plain": [
       "HBox(children=(HTML(value=''), FloatProgress(value=0.0, max=125.0), HTML(value='')))"
      ]
     },
     "metadata": {},
     "output_type": "display_data"
    },
    {
     "name": "stdout",
     "output_type": "stream",
     "text": [
      "\n",
      "Accuracy on LFW: 0.7554+-0.0231\n",
      "Precision 0.7148+-0.7148\n",
      "Recall 0.8504+-0.8504\n",
      "F1-score: 0.7767+-0.7767\n",
      "ROC Area Under Curve: 0.8348\n",
      "Best distance threshold: 1.16+-0.01\n",
      "TAR: 0.0275+-0.0208 @ FAR: 0.0010\n",
      "Epoch 92/100\n",
      "--------------------\n"
     ]
    },
    {
     "data": {
      "application/vnd.jupyter.widget-view+json": {
       "model_id": "dcbd46b2e4e746f5ab676eb03d3b6b2d",
       "version_major": 2,
       "version_minor": 0
      },
      "text/plain": [
       "HBox(children=(HTML(value=''), FloatProgress(value=0.0, max=120.0), HTML(value='')))"
      ]
     },
     "metadata": {},
     "output_type": "display_data"
    },
    {
     "name": "stdout",
     "output_type": "stream",
     "text": [
      "\n",
      "Train Loss: 3.2112 Acc: 0.7086\n"
     ]
    },
    {
     "data": {
      "application/vnd.jupyter.widget-view+json": {
       "model_id": "88639b36a181403c97c1a786526f0f0e",
       "version_major": 2,
       "version_minor": 0
      },
      "text/plain": [
       "HBox(children=(HTML(value=''), FloatProgress(value=0.0, max=125.0), HTML(value='')))"
      ]
     },
     "metadata": {},
     "output_type": "display_data"
    },
    {
     "name": "stdout",
     "output_type": "stream",
     "text": [
      "\n",
      "Accuracy on LFW: 0.7582+-0.0247\n",
      "Precision 0.7539+-0.7539\n",
      "Recall 0.7674+-0.7674\n",
      "F1-score: 0.7606+-0.7606\n",
      "ROC Area Under Curve: 0.8329\n",
      "Best distance threshold: 1.11+-0.01\n",
      "TAR: 0.0160+-0.0092 @ FAR: 0.0010\n",
      "Epoch 93/100\n",
      "--------------------\n"
     ]
    },
    {
     "data": {
      "application/vnd.jupyter.widget-view+json": {
       "model_id": "f6e84f3f22bd4c40ab8f3f9509fdf775",
       "version_major": 2,
       "version_minor": 0
      },
      "text/plain": [
       "HBox(children=(HTML(value=''), FloatProgress(value=0.0, max=120.0), HTML(value='')))"
      ]
     },
     "metadata": {},
     "output_type": "display_data"
    },
    {
     "name": "stdout",
     "output_type": "stream",
     "text": [
      "\n",
      "Train Loss: 3.3296 Acc: 0.7000\n"
     ]
    },
    {
     "data": {
      "application/vnd.jupyter.widget-view+json": {
       "model_id": "baf6a3edfa8147f0a994ff82316a061f",
       "version_major": 2,
       "version_minor": 0
      },
      "text/plain": [
       "HBox(children=(HTML(value=''), FloatProgress(value=0.0, max=125.0), HTML(value='')))"
      ]
     },
     "metadata": {},
     "output_type": "display_data"
    },
    {
     "name": "stdout",
     "output_type": "stream",
     "text": [
      "\n",
      "Accuracy on LFW: 0.7422+-0.0259\n",
      "Precision 0.7409+-0.7409\n",
      "Recall 0.7454+-0.7454\n",
      "F1-score: 0.7431+-0.7431\n",
      "ROC Area Under Curve: 0.8246\n",
      "Best distance threshold: 1.09+-0.02\n",
      "TAR: 0.0260+-0.0151 @ FAR: 0.0010\n",
      "Epoch 94/100\n",
      "--------------------\n"
     ]
    },
    {
     "data": {
      "application/vnd.jupyter.widget-view+json": {
       "model_id": "64384f00571e439185db7131b69de818",
       "version_major": 2,
       "version_minor": 0
      },
      "text/plain": [
       "HBox(children=(HTML(value=''), FloatProgress(value=0.0, max=120.0), HTML(value='')))"
      ]
     },
     "metadata": {},
     "output_type": "display_data"
    },
    {
     "name": "stdout",
     "output_type": "stream",
     "text": [
      "\n",
      "Train Loss: 3.1636 Acc: 0.7172\n"
     ]
    },
    {
     "data": {
      "application/vnd.jupyter.widget-view+json": {
       "model_id": "19d83f133bc2437eab20a99b0b705e10",
       "version_major": 2,
       "version_minor": 0
      },
      "text/plain": [
       "HBox(children=(HTML(value=''), FloatProgress(value=0.0, max=125.0), HTML(value='')))"
      ]
     },
     "metadata": {},
     "output_type": "display_data"
    },
    {
     "name": "stdout",
     "output_type": "stream",
     "text": [
      "\n",
      "Accuracy on LFW: 0.7582+-0.0286\n",
      "Precision 0.7548+-0.7548\n",
      "Recall 0.7654+-0.7654\n",
      "F1-score: 0.7600+-0.7600\n",
      "ROC Area Under Curve: 0.8348\n",
      "Best distance threshold: 1.11+-0.02\n",
      "TAR: 0.0250+-0.0095 @ FAR: 0.0010\n",
      "Epoch 95/100\n",
      "--------------------\n"
     ]
    },
    {
     "data": {
      "application/vnd.jupyter.widget-view+json": {
       "model_id": "c3c2427f8a9548bf8ea3c772dadca77f",
       "version_major": 2,
       "version_minor": 0
      },
      "text/plain": [
       "HBox(children=(HTML(value=''), FloatProgress(value=0.0, max=120.0), HTML(value='')))"
      ]
     },
     "metadata": {},
     "output_type": "display_data"
    },
    {
     "name": "stdout",
     "output_type": "stream",
     "text": [
      "\n",
      "Train Loss: 3.0944 Acc: 0.7232\n"
     ]
    },
    {
     "data": {
      "application/vnd.jupyter.widget-view+json": {
       "model_id": "e985384eb2bb4dc8b8a68d13433cf94a",
       "version_major": 2,
       "version_minor": 0
      },
      "text/plain": [
       "HBox(children=(HTML(value=''), FloatProgress(value=0.0, max=125.0), HTML(value='')))"
      ]
     },
     "metadata": {},
     "output_type": "display_data"
    },
    {
     "name": "stdout",
     "output_type": "stream",
     "text": [
      "\n",
      "Accuracy on LFW: 0.7582+-0.0280\n",
      "Precision 0.7356+-0.7356\n",
      "Recall 0.8064+-0.8064\n",
      "F1-score: 0.7694+-0.7694\n",
      "ROC Area Under Curve: 0.8324\n",
      "Best distance threshold: 1.16+-0.00\n",
      "TAR: 0.0330+-0.0145 @ FAR: 0.0010\n",
      "Epoch 96/100\n",
      "--------------------\n"
     ]
    },
    {
     "data": {
      "application/vnd.jupyter.widget-view+json": {
       "model_id": "623a29d457404423b78dce4a3891e088",
       "version_major": 2,
       "version_minor": 0
      },
      "text/plain": [
       "HBox(children=(HTML(value=''), FloatProgress(value=0.0, max=120.0), HTML(value='')))"
      ]
     },
     "metadata": {},
     "output_type": "display_data"
    },
    {
     "name": "stdout",
     "output_type": "stream",
     "text": [
      "\n",
      "Train Loss: 2.9888 Acc: 0.7195\n"
     ]
    },
    {
     "data": {
      "application/vnd.jupyter.widget-view+json": {
       "model_id": "f1fe671b7677415dbbc857eeceb2ab33",
       "version_major": 2,
       "version_minor": 0
      },
      "text/plain": [
       "HBox(children=(HTML(value=''), FloatProgress(value=0.0, max=125.0), HTML(value='')))"
      ]
     },
     "metadata": {},
     "output_type": "display_data"
    },
    {
     "name": "stdout",
     "output_type": "stream",
     "text": [
      "\n",
      "Accuracy on LFW: 0.7607+-0.0233\n",
      "Precision 0.7483+-0.7483\n",
      "Recall 0.7879+-0.7879\n",
      "F1-score: 0.7676+-0.7676\n",
      "ROC Area Under Curve: 0.8351\n",
      "Best distance threshold: 1.14+-0.02\n",
      "TAR: 0.0135+-0.0150 @ FAR: 0.0010\n",
      "Epoch 97/100\n",
      "--------------------\n"
     ]
    },
    {
     "data": {
      "application/vnd.jupyter.widget-view+json": {
       "model_id": "6538bb81aa444b30bc4ee43795c731fc",
       "version_major": 2,
       "version_minor": 0
      },
      "text/plain": [
       "HBox(children=(HTML(value=''), FloatProgress(value=0.0, max=120.0), HTML(value='')))"
      ]
     },
     "metadata": {},
     "output_type": "display_data"
    },
    {
     "name": "stdout",
     "output_type": "stream",
     "text": [
      "\n",
      "Train Loss: 3.3791 Acc: 0.6935\n"
     ]
    },
    {
     "data": {
      "application/vnd.jupyter.widget-view+json": {
       "model_id": "6765251201864d228ec1f7b025798c82",
       "version_major": 2,
       "version_minor": 0
      },
      "text/plain": [
       "HBox(children=(HTML(value=''), FloatProgress(value=0.0, max=125.0), HTML(value='')))"
      ]
     },
     "metadata": {},
     "output_type": "display_data"
    },
    {
     "name": "stdout",
     "output_type": "stream",
     "text": [
      "\n",
      "Accuracy on LFW: 0.7622+-0.0176\n",
      "Precision 0.7763+-0.7763\n",
      "Recall 0.7384+-0.7384\n",
      "F1-score: 0.7568+-0.7568\n",
      "ROC Area Under Curve: 0.8382\n",
      "Best distance threshold: 1.05+-0.02\n",
      "TAR: 0.0120+-0.0071 @ FAR: 0.0015\n",
      "Epoch 98/100\n",
      "--------------------\n"
     ]
    },
    {
     "data": {
      "application/vnd.jupyter.widget-view+json": {
       "model_id": "03c4618d7e8441998b8998fc184f1b6d",
       "version_major": 2,
       "version_minor": 0
      },
      "text/plain": [
       "HBox(children=(HTML(value=''), FloatProgress(value=0.0, max=120.0), HTML(value='')))"
      ]
     },
     "metadata": {},
     "output_type": "display_data"
    },
    {
     "name": "stdout",
     "output_type": "stream",
     "text": [
      "\n",
      "Train Loss: 3.1011 Acc: 0.7151\n"
     ]
    },
    {
     "data": {
      "application/vnd.jupyter.widget-view+json": {
       "model_id": "aebcfe6b740d4c1f8f4713b2becb1e2c",
       "version_major": 2,
       "version_minor": 0
      },
      "text/plain": [
       "HBox(children=(HTML(value=''), FloatProgress(value=0.0, max=125.0), HTML(value='')))"
      ]
     },
     "metadata": {},
     "output_type": "display_data"
    },
    {
     "name": "stdout",
     "output_type": "stream",
     "text": [
      "\n",
      "Accuracy on LFW: 0.7607+-0.0218\n",
      "Precision 0.7427+-0.7427\n",
      "Recall 0.7994+-0.7994\n",
      "F1-score: 0.7700+-0.7700\n",
      "ROC Area Under Curve: 0.8407\n",
      "Best distance threshold: 1.10+-0.03\n",
      "TAR: 0.0285+-0.0140 @ FAR: 0.0010\n",
      "Epoch 99/100\n",
      "--------------------\n"
     ]
    },
    {
     "data": {
      "application/vnd.jupyter.widget-view+json": {
       "model_id": "a88523eea5974c46a162f99a1f5f5706",
       "version_major": 2,
       "version_minor": 0
      },
      "text/plain": [
       "HBox(children=(HTML(value=''), FloatProgress(value=0.0, max=120.0), HTML(value='')))"
      ]
     },
     "metadata": {},
     "output_type": "display_data"
    },
    {
     "name": "stdout",
     "output_type": "stream",
     "text": [
      "\n",
      "Train Loss: 3.1282 Acc: 0.7156\n"
     ]
    },
    {
     "data": {
      "application/vnd.jupyter.widget-view+json": {
       "model_id": "fe96da54d5c0499d84338d0aa79df727",
       "version_major": 2,
       "version_minor": 0
      },
      "text/plain": [
       "HBox(children=(HTML(value=''), FloatProgress(value=0.0, max=125.0), HTML(value='')))"
      ]
     },
     "metadata": {},
     "output_type": "display_data"
    },
    {
     "name": "stdout",
     "output_type": "stream",
     "text": [
      "\n",
      "Accuracy on LFW: 0.7667+-0.0191\n",
      "Precision 0.7447+-0.7447\n",
      "Recall 0.8119+-0.8119\n",
      "F1-score: 0.7769+-0.7769\n",
      "ROC Area Under Curve: 0.8395\n",
      "Best distance threshold: 1.16+-0.02\n",
      "TAR: 0.0230+-0.0176 @ FAR: 0.0010\n",
      "Epoch 100/100\n",
      "--------------------\n"
     ]
    },
    {
     "data": {
      "application/vnd.jupyter.widget-view+json": {
       "model_id": "ddc2409be2094b99904725fd5197b689",
       "version_major": 2,
       "version_minor": 0
      },
      "text/plain": [
       "HBox(children=(HTML(value=''), FloatProgress(value=0.0, max=120.0), HTML(value='')))"
      ]
     },
     "metadata": {},
     "output_type": "display_data"
    },
    {
     "name": "stdout",
     "output_type": "stream",
     "text": [
      "\n",
      "Train Loss: 3.0641 Acc: 0.7151\n"
     ]
    },
    {
     "data": {
      "application/vnd.jupyter.widget-view+json": {
       "model_id": "775cd94afe8b43e9af7ddeac0fc3e3d3",
       "version_major": 2,
       "version_minor": 0
      },
      "text/plain": [
       "HBox(children=(HTML(value=''), FloatProgress(value=0.0, max=125.0), HTML(value='')))"
      ]
     },
     "metadata": {},
     "output_type": "display_data"
    },
    {
     "name": "stdout",
     "output_type": "stream",
     "text": [
      "\n",
      "Accuracy on LFW: 0.7722+-0.0248\n",
      "Precision 0.7751+-0.7751\n",
      "Recall 0.7674+-0.7674\n",
      "F1-score: 0.7712+-0.7712\n",
      "ROC Area Under Curve: 0.8468\n",
      "Best distance threshold: 1.06+-0.02\n",
      "TAR: 0.0280+-0.0133 @ FAR: 0.0010\n"
     ]
    }
   ],
   "source": [
    "train(model, optimizer, LR_scheduler, num_epochs=11, start_epoch=89, margin=0.5)"
   ]
  },
  {
   "cell_type": "code",
   "execution_count": 10,
   "metadata": {},
   "outputs": [
    {
     "output_type": "stream",
     "name": "stdout",
     "text": [
      "Epoch 175/204\n--------------------\n"
     ]
    },
    {
     "output_type": "display_data",
     "data": {
      "text/plain": "HBox(children=(HTML(value=''), FloatProgress(value=0.0, max=192.0), HTML(value='')))",
      "application/vnd.jupyter.widget-view+json": {
       "version_major": 2,
       "version_minor": 0,
       "model_id": "6002ece6952e40649c574432ca1faa36"
      }
     },
     "metadata": {}
    },
    {
     "output_type": "stream",
     "name": "stdout",
     "text": [
      "\nTrain Loss: 1.7115 Acc: 0.7980\n"
     ]
    },
    {
     "output_type": "display_data",
     "data": {
      "text/plain": "HBox(children=(HTML(value=''), FloatProgress(value=0.0, max=125.0), HTML(value='')))",
      "application/vnd.jupyter.widget-view+json": {
       "version_major": 2,
       "version_minor": 0,
       "model_id": "39ae42609ef444078fbe6acc3741c9d1"
      }
     },
     "metadata": {}
    },
    {
     "output_type": "stream",
     "name": "stdout",
     "text": [
      "\n",
      "Accuracy on LFW: 0.7864+-0.0312\n",
      "Precision 0.7835+-0.0326\n",
      "Recall 0.7924+-0.0360\n",
      "F1-score: 0.7879+-0.0342\n",
      "ROC Area Under Curve: 0.8605\n",
      "Best distance threshold: 1.12+-0.00\n",
      "TAR: 0.6088+-0.0580 @ FAR: 0.1020\n",
      "Epoch 176/204\n",
      "--------------------\n"
     ]
    },
    {
     "output_type": "display_data",
     "data": {
      "text/plain": "HBox(children=(HTML(value=''), FloatProgress(value=0.0, max=192.0), HTML(value='')))",
      "application/vnd.jupyter.widget-view+json": {
       "version_major": 2,
       "version_minor": 0,
       "model_id": "4ecac813d4644516a52a71aa45db0b42"
      }
     },
     "metadata": {}
    },
    {
     "output_type": "stream",
     "name": "stdout",
     "text": [
      "\nTrain Loss: 1.8377 Acc: 0.7922\n"
     ]
    },
    {
     "output_type": "display_data",
     "data": {
      "text/plain": "HBox(children=(HTML(value=''), FloatProgress(value=0.0, max=125.0), HTML(value='')))",
      "application/vnd.jupyter.widget-view+json": {
       "version_major": 2,
       "version_minor": 0,
       "model_id": "871a4a3278c34e80a7241dc0f88c9e80"
      }
     },
     "metadata": {}
    },
    {
     "output_type": "stream",
     "name": "stdout",
     "text": [
      "\n",
      "Accuracy on LFW: 0.7967+-0.0276\n",
      "Precision 0.8176+-0.0274\n",
      "Recall 0.7639+-0.0400\n",
      "F1-score: 0.7898+-0.0325\n",
      "ROC Area Under Curve: 0.8749\n",
      "Best distance threshold: 1.04+-0.01\n",
      "TAR: 0.6403+-0.0406 @ FAR: 0.1005\n",
      "Epoch 177/204\n",
      "--------------------\n"
     ]
    },
    {
     "output_type": "display_data",
     "data": {
      "text/plain": "HBox(children=(HTML(value=''), FloatProgress(value=0.0, max=192.0), HTML(value='')))",
      "application/vnd.jupyter.widget-view+json": {
       "version_major": 2,
       "version_minor": 0,
       "model_id": "12a7cb142da241598ec8fd5e349fbcce"
      }
     },
     "metadata": {}
    },
    {
     "output_type": "stream",
     "name": "stdout",
     "text": [
      "\nTrain Loss: 1.5976 Acc: 0.8101\n"
     ]
    },
    {
     "output_type": "display_data",
     "data": {
      "text/plain": "HBox(children=(HTML(value=''), FloatProgress(value=0.0, max=125.0), HTML(value='')))",
      "application/vnd.jupyter.widget-view+json": {
       "version_major": 2,
       "version_minor": 0,
       "model_id": "827bc0e182644613842396fd22fb79d3"
      }
     },
     "metadata": {}
    },
    {
     "output_type": "stream",
     "name": "stdout",
     "text": [
      "\n",
      "Accuracy on LFW: 0.7867+-0.0287\n",
      "Precision 0.7871+-0.0339\n",
      "Recall 0.7874+-0.0313\n",
      "F1-score: 0.7873+-0.0326\n",
      "ROC Area Under Curve: 0.8675\n",
      "Best distance threshold: 1.11+-0.03\n",
      "TAR: 0.6213+-0.0428 @ FAR: 0.0995\n",
      "Epoch 178/204\n",
      "--------------------\n"
     ]
    },
    {
     "output_type": "display_data",
     "data": {
      "text/plain": "HBox(children=(HTML(value=''), FloatProgress(value=0.0, max=192.0), HTML(value='')))",
      "application/vnd.jupyter.widget-view+json": {
       "version_major": 2,
       "version_minor": 0,
       "model_id": "af2313393ce743c9ac3f1fcaf321eb12"
      }
     },
     "metadata": {}
    },
    {
     "output_type": "stream",
     "name": "stdout",
     "text": [
      "\nTrain Loss: 1.6313 Acc: 0.8099\n"
     ]
    },
    {
     "output_type": "display_data",
     "data": {
      "text/plain": "HBox(children=(HTML(value=''), FloatProgress(value=0.0, max=125.0), HTML(value='')))",
      "application/vnd.jupyter.widget-view+json": {
       "version_major": 2,
       "version_minor": 0,
       "model_id": "dc09ca7a0534480b8aff017427bd84bc"
      }
     },
     "metadata": {}
    },
    {
     "output_type": "stream",
     "name": "stdout",
     "text": [
      "\n",
      "Accuracy on LFW: 0.7862+-0.0254\n",
      "Precision 0.7805+-0.0262\n",
      "Recall 0.7969+-0.0313\n",
      "F1-score: 0.7886+-0.0285\n",
      "ROC Area Under Curve: 0.8604\n",
      "Best distance threshold: 1.12+-0.00\n",
      "TAR: 0.5938+-0.0238 @ FAR: 0.1005\n",
      "Epoch 179/204\n",
      "--------------------\n"
     ]
    },
    {
     "output_type": "display_data",
     "data": {
      "text/plain": "HBox(children=(HTML(value=''), FloatProgress(value=0.0, max=192.0), HTML(value='')))",
      "application/vnd.jupyter.widget-view+json": {
       "version_major": 2,
       "version_minor": 0,
       "model_id": "dce173bae76f4b63893a28a22671ae89"
      }
     },
     "metadata": {}
    },
    {
     "output_type": "stream",
     "name": "stdout",
     "text": [
      "\nTrain Loss: 1.5812 Acc: 0.8034\n"
     ]
    },
    {
     "output_type": "display_data",
     "data": {
      "text/plain": "HBox(children=(HTML(value=''), FloatProgress(value=0.0, max=125.0), HTML(value='')))",
      "application/vnd.jupyter.widget-view+json": {
       "version_major": 2,
       "version_minor": 0,
       "model_id": "c244821d40104917b5e01835f67c43a7"
      }
     },
     "metadata": {}
    },
    {
     "output_type": "stream",
     "name": "stdout",
     "text": [
      "\n",
      "Accuracy on LFW: 0.7904+-0.0198\n",
      "Precision 0.7955+-0.0214\n",
      "Recall 0.7824+-0.0308\n",
      "F1-score: 0.7889+-0.0253\n",
      "ROC Area Under Curve: 0.8670\n",
      "Best distance threshold: 1.03+-0.00\n",
      "TAR: 0.5953+-0.0397 @ FAR: 0.0985\n",
      "Epoch 180/204\n",
      "--------------------\n"
     ]
    },
    {
     "output_type": "display_data",
     "data": {
      "text/plain": "HBox(children=(HTML(value=''), FloatProgress(value=0.0, max=192.0), HTML(value='')))",
      "application/vnd.jupyter.widget-view+json": {
       "version_major": 2,
       "version_minor": 0,
       "model_id": "43239eb341074558a114ae32eb3e49ab"
      }
     },
     "metadata": {}
    },
    {
     "output_type": "stream",
     "name": "stdout",
     "text": [
      "\nTrain Loss: 1.4372 Acc: 0.8182\n"
     ]
    },
    {
     "output_type": "display_data",
     "data": {
      "text/plain": "HBox(children=(HTML(value=''), FloatProgress(value=0.0, max=125.0), HTML(value='')))",
      "application/vnd.jupyter.widget-view+json": {
       "version_major": 2,
       "version_minor": 0,
       "model_id": "806ec97017ec43f5a2adffe427280be1"
      }
     },
     "metadata": {}
    },
    {
     "output_type": "stream",
     "name": "stdout",
     "text": [
      "\n",
      "Accuracy on LFW: 0.7885+-0.0268\n",
      "Precision 0.7997+-0.0300\n",
      "Recall 0.7704+-0.0410\n",
      "F1-score: 0.7848+-0.0347\n",
      "ROC Area Under Curve: 0.8679\n",
      "Best distance threshold: 1.00+-0.02\n",
      "TAR: 0.6268+-0.0282 @ FAR: 0.1010\n",
      "Epoch 181/204\n",
      "--------------------\n"
     ]
    },
    {
     "output_type": "display_data",
     "data": {
      "text/plain": "HBox(children=(HTML(value=''), FloatProgress(value=0.0, max=192.0), HTML(value='')))",
      "application/vnd.jupyter.widget-view+json": {
       "version_major": 2,
       "version_minor": 0,
       "model_id": "7901154c9bc849e9b879815c405e4b2e"
      }
     },
     "metadata": {}
    },
    {
     "output_type": "stream",
     "name": "stdout",
     "text": [
      "\nTrain Loss: 1.4794 Acc: 0.8169\n"
     ]
    },
    {
     "output_type": "display_data",
     "data": {
      "text/plain": "HBox(children=(HTML(value=''), FloatProgress(value=0.0, max=125.0), HTML(value='')))",
      "application/vnd.jupyter.widget-view+json": {
       "version_major": 2,
       "version_minor": 0,
       "model_id": "14279dcf0dab46879c5bef2668d40b0e"
      }
     },
     "metadata": {}
    },
    {
     "output_type": "stream",
     "name": "stdout",
     "text": [
      "\n",
      "Accuracy on LFW: 0.7819+-0.0286\n",
      "Precision 0.7808+-0.0232\n",
      "Recall 0.7834+-0.0427\n",
      "F1-score: 0.7821+-0.0301\n",
      "ROC Area Under Curve: 0.8636\n",
      "Best distance threshold: 1.09+-0.02\n",
      "TAR: 0.6053+-0.0448 @ FAR: 0.1010\n",
      "Epoch 182/204\n",
      "--------------------\n"
     ]
    },
    {
     "output_type": "display_data",
     "data": {
      "text/plain": "HBox(children=(HTML(value=''), FloatProgress(value=0.0, max=192.0), HTML(value='')))",
      "application/vnd.jupyter.widget-view+json": {
       "version_major": 2,
       "version_minor": 0,
       "model_id": "16d37cbf8d3c41ceb8ccfdf9d1276a94"
      }
     },
     "metadata": {}
    },
    {
     "output_type": "stream",
     "name": "stdout",
     "text": [
      "\nTrain Loss: 1.5119 Acc: 0.8195\n"
     ]
    },
    {
     "output_type": "display_data",
     "data": {
      "text/plain": "HBox(children=(HTML(value=''), FloatProgress(value=0.0, max=125.0), HTML(value='')))",
      "application/vnd.jupyter.widget-view+json": {
       "version_major": 2,
       "version_minor": 0,
       "model_id": "82a94ee480f64350b06e84ff0315627c"
      }
     },
     "metadata": {}
    },
    {
     "output_type": "stream",
     "name": "stdout",
     "text": [
      "\n",
      "Accuracy on LFW: 0.7922+-0.0229\n",
      "Precision 0.7716+-0.0265\n",
      "Recall 0.8314+-0.0261\n",
      "F1-score: 0.8004+-0.0263\n",
      "ROC Area Under Curve: 0.8656\n",
      "Best distance threshold: 1.17+-0.01\n",
      "TAR: 0.6098+-0.0347 @ FAR: 0.0980\n",
      "Epoch 183/204\n",
      "--------------------\n"
     ]
    },
    {
     "output_type": "display_data",
     "data": {
      "text/plain": "HBox(children=(HTML(value=''), FloatProgress(value=0.0, max=192.0), HTML(value='')))",
      "application/vnd.jupyter.widget-view+json": {
       "version_major": 2,
       "version_minor": 0,
       "model_id": "0eff0b86f4dd4bdc8490379b4a38a255"
      }
     },
     "metadata": {}
    },
    {
     "output_type": "stream",
     "name": "stdout",
     "text": [
      "\nTrain Loss: 1.6216 Acc: 0.8130\n"
     ]
    },
    {
     "output_type": "display_data",
     "data": {
      "text/plain": "HBox(children=(HTML(value=''), FloatProgress(value=0.0, max=125.0), HTML(value='')))",
      "application/vnd.jupyter.widget-view+json": {
       "version_major": 2,
       "version_minor": 0,
       "model_id": "97d4738ad9da4b978d92cf7c3a84e4b4"
      }
     },
     "metadata": {}
    },
    {
     "output_type": "stream",
     "name": "stdout",
     "text": [
      "\n",
      "Accuracy on LFW: 0.7822+-0.0268\n",
      "Precision 0.8110+-0.0315\n",
      "Recall 0.7363+-0.0303\n",
      "F1-score: 0.7719+-0.0309\n",
      "ROC Area Under Curve: 0.8643\n",
      "Best distance threshold: 0.91+-0.02\n",
      "TAR: 0.6088+-0.0446 @ FAR: 0.1005\n",
      "Epoch 184/204\n",
      "--------------------\n"
     ]
    },
    {
     "output_type": "display_data",
     "data": {
      "text/plain": "HBox(children=(HTML(value=''), FloatProgress(value=0.0, max=192.0), HTML(value='')))",
      "application/vnd.jupyter.widget-view+json": {
       "version_major": 2,
       "version_minor": 0,
       "model_id": "d9b21192d1144549a51b3c1ffb4e2a27"
      }
     },
     "metadata": {}
    },
    {
     "output_type": "stream",
     "name": "stdout",
     "text": [
      "\nTrain Loss: 1.5174 Acc: 0.8086\n"
     ]
    },
    {
     "output_type": "display_data",
     "data": {
      "text/plain": "HBox(children=(HTML(value=''), FloatProgress(value=0.0, max=125.0), HTML(value='')))",
      "application/vnd.jupyter.widget-view+json": {
       "version_major": 2,
       "version_minor": 0,
       "model_id": "15271ed2e9954e7aaa10ecf861b251bd"
      }
     },
     "metadata": {}
    },
    {
     "output_type": "stream",
     "name": "stdout",
     "text": [
      "\n",
      "Accuracy on LFW: 0.7764+-0.0178\n",
      "Precision 0.7776+-0.0214\n",
      "Recall 0.7749+-0.0172\n",
      "F1-score: 0.7762+-0.0191\n",
      "ROC Area Under Curve: 0.8512\n",
      "Best distance threshold: 0.91+-0.00\n",
      "TAR: 0.5783+-0.0349 @ FAR: 0.0995\n",
      "Epoch 185/204\n",
      "--------------------\n"
     ]
    },
    {
     "output_type": "display_data",
     "data": {
      "text/plain": "HBox(children=(HTML(value=''), FloatProgress(value=0.0, max=192.0), HTML(value='')))",
      "application/vnd.jupyter.widget-view+json": {
       "version_major": 2,
       "version_minor": 0,
       "model_id": "dda5e322d5c6426eb720461cb8b3e3a3"
      }
     },
     "metadata": {}
    },
    {
     "output_type": "stream",
     "name": "stdout",
     "text": [
      "\nTrain Loss: 1.6272 Acc: 0.8081\n"
     ]
    },
    {
     "output_type": "display_data",
     "data": {
      "text/plain": "HBox(children=(HTML(value=''), FloatProgress(value=0.0, max=125.0), HTML(value='')))",
      "application/vnd.jupyter.widget-view+json": {
       "version_major": 2,
       "version_minor": 0,
       "model_id": "6ad2110602134bdbb828c3e1c7faa4fd"
      }
     },
     "metadata": {}
    },
    {
     "output_type": "stream",
     "name": "stdout",
     "text": [
      "\n",
      "Accuracy on LFW: 0.7704+-0.0227\n",
      "Precision 0.7582+-0.0286\n",
      "Recall 0.7959+-0.0213\n",
      "F1-score: 0.7766+-0.0244\n",
      "ROC Area Under Curve: 0.8503\n",
      "Best distance threshold: 1.03+-0.01\n",
      "TAR: 0.5508+-0.0329 @ FAR: 0.1000\n",
      "Epoch 186/204\n",
      "--------------------\n"
     ]
    },
    {
     "output_type": "display_data",
     "data": {
      "text/plain": "HBox(children=(HTML(value=''), FloatProgress(value=0.0, max=192.0), HTML(value='')))",
      "application/vnd.jupyter.widget-view+json": {
       "version_major": 2,
       "version_minor": 0,
       "model_id": "ce4229493cdf4ad6b9fc4fbac0d3bfdc"
      }
     },
     "metadata": {}
    },
    {
     "output_type": "stream",
     "name": "stdout",
     "text": [
      "\nTrain Loss: 1.5101 Acc: 0.8182\n"
     ]
    },
    {
     "output_type": "display_data",
     "data": {
      "text/plain": "HBox(children=(HTML(value=''), FloatProgress(value=0.0, max=125.0), HTML(value='')))",
      "application/vnd.jupyter.widget-view+json": {
       "version_major": 2,
       "version_minor": 0,
       "model_id": "6215b72d9b2c4114a906b580b48e1f87"
      }
     },
     "metadata": {}
    },
    {
     "output_type": "stream",
     "name": "stdout",
     "text": [
      "\n",
      "Accuracy on LFW: 0.7734+-0.0216\n",
      "Precision 0.7725+-0.0272\n",
      "Recall 0.7769+-0.0357\n",
      "F1-score: 0.7747+-0.0309\n",
      "ROC Area Under Curve: 0.8593\n",
      "Best distance threshold: 1.09+-0.03\n",
      "TAR: 0.5883+-0.0415 @ FAR: 0.1005\n",
      "Epoch 187/204\n",
      "--------------------\n"
     ]
    },
    {
     "output_type": "display_data",
     "data": {
      "text/plain": "HBox(children=(HTML(value=''), FloatProgress(value=0.0, max=192.0), HTML(value='')))",
      "application/vnd.jupyter.widget-view+json": {
       "version_major": 2,
       "version_minor": 0,
       "model_id": "dee6c7c9c2314b88bc7cfad516cae38f"
      }
     },
     "metadata": {}
    },
    {
     "output_type": "stream",
     "name": "stdout",
     "text": [
      "\nTrain Loss: 1.2849 Acc: 0.8332\n"
     ]
    },
    {
     "output_type": "display_data",
     "data": {
      "text/plain": "HBox(children=(HTML(value=''), FloatProgress(value=0.0, max=125.0), HTML(value='')))",
      "application/vnd.jupyter.widget-view+json": {
       "version_major": 2,
       "version_minor": 0,
       "model_id": "5ccb4792857c4a93a5dc62b6b293fda3"
      }
     },
     "metadata": {}
    },
    {
     "output_type": "stream",
     "name": "stdout",
     "text": [
      "\n",
      "Accuracy on LFW: 0.7714+-0.0255\n",
      "Precision 0.7754+-0.0278\n",
      "Recall 0.7659+-0.0543\n",
      "F1-score: 0.7706+-0.0368\n",
      "ROC Area Under Curve: 0.8537\n",
      "Best distance threshold: 0.75+-0.04\n",
      "TAR: 0.5758+-0.0381 @ FAR: 0.0990\n",
      "Epoch 188/204\n",
      "--------------------\n"
     ]
    },
    {
     "output_type": "display_data",
     "data": {
      "text/plain": "HBox(children=(HTML(value=''), FloatProgress(value=0.0, max=192.0), HTML(value='')))",
      "application/vnd.jupyter.widget-view+json": {
       "version_major": 2,
       "version_minor": 0,
       "model_id": "2d3531e97bfa4214a8efdfeb4e1b7040"
      }
     },
     "metadata": {}
    },
    {
     "output_type": "stream",
     "name": "stdout",
     "text": [
      "\nTrain Loss: 1.5099 Acc: 0.8188\n"
     ]
    },
    {
     "output_type": "display_data",
     "data": {
      "text/plain": "HBox(children=(HTML(value=''), FloatProgress(value=0.0, max=125.0), HTML(value='')))",
      "application/vnd.jupyter.widget-view+json": {
       "version_major": 2,
       "version_minor": 0,
       "model_id": "61bc299a157544cc8b8198330467f771"
      }
     },
     "metadata": {}
    },
    {
     "output_type": "stream",
     "name": "stdout",
     "text": [
      "\n",
      "Accuracy on LFW: 0.7742+-0.0247\n",
      "Precision 0.7638+-0.0204\n",
      "Recall 0.7939+-0.0428\n",
      "F1-score: 0.7786+-0.0277\n",
      "ROC Area Under Curve: 0.8548\n",
      "Best distance threshold: 1.05+-0.04\n",
      "TAR: 0.5918+-0.0544 @ FAR: 0.1010\n",
      "Epoch 189/204\n",
      "--------------------\n"
     ]
    },
    {
     "output_type": "display_data",
     "data": {
      "text/plain": "HBox(children=(HTML(value=''), FloatProgress(value=0.0, max=192.0), HTML(value='')))",
      "application/vnd.jupyter.widget-view+json": {
       "version_major": 2,
       "version_minor": 0,
       "model_id": "857a70a45b3f4afdbabedfa0252fa9b9"
      }
     },
     "metadata": {}
    },
    {
     "output_type": "stream",
     "name": "stdout",
     "text": [
      "\nTrain Loss: 1.3765 Acc: 0.8206\n"
     ]
    },
    {
     "output_type": "display_data",
     "data": {
      "text/plain": "HBox(children=(HTML(value=''), FloatProgress(value=0.0, max=125.0), HTML(value='')))",
      "application/vnd.jupyter.widget-view+json": {
       "version_major": 2,
       "version_minor": 0,
       "model_id": "7f4d721ac7c345819f006b7dbb7cd443"
      }
     },
     "metadata": {}
    },
    {
     "output_type": "stream",
     "name": "stdout",
     "text": [
      "\n",
      "Accuracy on LFW: 0.7764+-0.0263\n",
      "Precision 0.7698+-0.0251\n",
      "Recall 0.7889+-0.0369\n",
      "F1-score: 0.7792+-0.0299\n",
      "ROC Area Under Curve: 0.8477\n",
      "Best distance threshold: 1.09+-0.01\n",
      "TAR: 0.5758+-0.0391 @ FAR: 0.1025\n",
      "Epoch 190/204\n",
      "--------------------\n"
     ]
    },
    {
     "output_type": "display_data",
     "data": {
      "text/plain": "HBox(children=(HTML(value=''), FloatProgress(value=0.0, max=192.0), HTML(value='')))",
      "application/vnd.jupyter.widget-view+json": {
       "version_major": 2,
       "version_minor": 0,
       "model_id": "77c8358796354d30ace857075fbde8af"
      }
     },
     "metadata": {}
    },
    {
     "output_type": "stream",
     "name": "stdout",
     "text": [
      "\nTrain Loss: 1.4510 Acc: 0.8193\n"
     ]
    },
    {
     "output_type": "display_data",
     "data": {
      "text/plain": "HBox(children=(HTML(value=''), FloatProgress(value=0.0, max=125.0), HTML(value='')))",
      "application/vnd.jupyter.widget-view+json": {
       "version_major": 2,
       "version_minor": 0,
       "model_id": "1bb2089a5a42466e93dad73441960f0c"
      }
     },
     "metadata": {}
    },
    {
     "output_type": "stream",
     "name": "stdout",
     "text": [
      "\n",
      "Accuracy on LFW: 0.7717+-0.0248\n",
      "Precision 0.7786+-0.0254\n",
      "Recall 0.7599+-0.0398\n",
      "F1-score: 0.7691+-0.0310\n",
      "ROC Area Under Curve: 0.8500\n",
      "Best distance threshold: 0.91+-0.02\n",
      "TAR: 0.5853+-0.0433 @ FAR: 0.0995\n",
      "Epoch 191/204\n",
      "--------------------\n"
     ]
    },
    {
     "output_type": "display_data",
     "data": {
      "text/plain": "HBox(children=(HTML(value=''), FloatProgress(value=0.0, max=192.0), HTML(value='')))",
      "application/vnd.jupyter.widget-view+json": {
       "version_major": 2,
       "version_minor": 0,
       "model_id": "b890660855874cdd8394fcfa51f7d129"
      }
     },
     "metadata": {}
    },
    {
     "output_type": "stream",
     "name": "stdout",
     "text": [
      "\nTrain Loss: 1.4154 Acc: 0.8226\n"
     ]
    },
    {
     "output_type": "display_data",
     "data": {
      "text/plain": "HBox(children=(HTML(value=''), FloatProgress(value=0.0, max=125.0), HTML(value='')))",
      "application/vnd.jupyter.widget-view+json": {
       "version_major": 2,
       "version_minor": 0,
       "model_id": "c2bdc96c54e84e768d51d88d250a5180"
      }
     },
     "metadata": {}
    },
    {
     "output_type": "stream",
     "name": "stdout",
     "text": [
      "\n",
      "Accuracy on LFW: 0.7927+-0.0293\n",
      "Precision 0.7808+-0.0311\n",
      "Recall 0.8149+-0.0317\n",
      "F1-score: 0.7975+-0.0314\n",
      "ROC Area Under Curve: 0.8640\n",
      "Best distance threshold: 1.13+-0.00\n",
      "TAR: 0.5833+-0.0394 @ FAR: 0.0985\n",
      "Epoch 192/204\n",
      "--------------------\n"
     ]
    },
    {
     "output_type": "display_data",
     "data": {
      "text/plain": "HBox(children=(HTML(value=''), FloatProgress(value=0.0, max=192.0), HTML(value='')))",
      "application/vnd.jupyter.widget-view+json": {
       "version_major": 2,
       "version_minor": 0,
       "model_id": "d5eea8a4f24e4917bc82e8f64c2dedec"
      }
     },
     "metadata": {}
    },
    {
     "output_type": "stream",
     "name": "stdout",
     "text": [
      "\nTrain Loss: 1.3533 Acc: 0.8304\n"
     ]
    },
    {
     "output_type": "display_data",
     "data": {
      "text/plain": "HBox(children=(HTML(value=''), FloatProgress(value=0.0, max=125.0), HTML(value='')))",
      "application/vnd.jupyter.widget-view+json": {
       "version_major": 2,
       "version_minor": 0,
       "model_id": "234599fe81754bd790e04127c3fb2b20"
      }
     },
     "metadata": {}
    },
    {
     "output_type": "stream",
     "name": "stdout",
     "text": [
      "\n",
      "Accuracy on LFW: 0.7872+-0.0283\n",
      "Precision 0.7878+-0.0269\n",
      "Recall 0.7859+-0.0335\n",
      "F1-score: 0.7869+-0.0298\n",
      "ROC Area Under Curve: 0.8647\n",
      "Best distance threshold: 1.03+-0.00\n",
      "TAR: 0.5963+-0.0415 @ FAR: 0.1010\n",
      "Epoch 193/204\n",
      "--------------------\n"
     ]
    },
    {
     "output_type": "display_data",
     "data": {
      "text/plain": "HBox(children=(HTML(value=''), FloatProgress(value=0.0, max=192.0), HTML(value='')))",
      "application/vnd.jupyter.widget-view+json": {
       "version_major": 2,
       "version_minor": 0,
       "model_id": "740e71f2ab064d0993600ebfdb4a89e1"
      }
     },
     "metadata": {}
    },
    {
     "output_type": "stream",
     "name": "stdout",
     "text": [
      "\nTrain Loss: 1.6613 Acc: 0.8094\n"
     ]
    },
    {
     "output_type": "display_data",
     "data": {
      "text/plain": "HBox(children=(HTML(value=''), FloatProgress(value=0.0, max=125.0), HTML(value='')))",
      "application/vnd.jupyter.widget-view+json": {
       "version_major": 2,
       "version_minor": 0,
       "model_id": "03ed2d5aba9043328b07a409451f9b29"
      }
     },
     "metadata": {}
    },
    {
     "output_type": "stream",
     "name": "stdout",
     "text": [
      "\n",
      "Accuracy on LFW: 0.7907+-0.0331\n",
      "Precision 0.7839+-0.0351\n",
      "Recall 0.8034+-0.0366\n",
      "F1-score: 0.7935+-0.0358\n",
      "ROC Area Under Curve: 0.8634\n",
      "Best distance threshold: 1.06+-0.00\n",
      "TAR: 0.5713+-0.0427 @ FAR: 0.1005\n",
      "Epoch 194/204\n",
      "--------------------\n"
     ]
    },
    {
     "output_type": "display_data",
     "data": {
      "text/plain": "HBox(children=(HTML(value=''), FloatProgress(value=0.0, max=192.0), HTML(value='')))",
      "application/vnd.jupyter.widget-view+json": {
       "version_major": 2,
       "version_minor": 0,
       "model_id": "8527c2f11d1f424bb1655383061b4f85"
      }
     },
     "metadata": {}
    },
    {
     "output_type": "stream",
     "name": "stdout",
     "text": [
      "\nTrain Loss: 1.4300 Acc: 0.8237\n"
     ]
    },
    {
     "output_type": "display_data",
     "data": {
      "text/plain": "HBox(children=(HTML(value=''), FloatProgress(value=0.0, max=125.0), HTML(value='')))",
      "application/vnd.jupyter.widget-view+json": {
       "version_major": 2,
       "version_minor": 0,
       "model_id": "2d7be02600b94fee814ffad2c7cfc77a"
      }
     },
     "metadata": {}
    },
    {
     "output_type": "stream",
     "name": "stdout",
     "text": [
      "\n",
      "Accuracy on LFW: 0.7859+-0.0236\n",
      "Precision 0.7810+-0.0188\n",
      "Recall 0.7944+-0.0368\n",
      "F1-score: 0.7876+-0.0249\n",
      "ROC Area Under Curve: 0.8641\n",
      "Best distance threshold: 1.07+-0.01\n",
      "TAR: 0.6193+-0.0461 @ FAR: 0.0995\n",
      "Epoch 195/204\n",
      "--------------------\n"
     ]
    },
    {
     "output_type": "display_data",
     "data": {
      "text/plain": "HBox(children=(HTML(value=''), FloatProgress(value=0.0, max=192.0), HTML(value='')))",
      "application/vnd.jupyter.widget-view+json": {
       "version_major": 2,
       "version_minor": 0,
       "model_id": "4d2d5cf3db094f188b7bdbea9f826d2f"
      }
     },
     "metadata": {}
    },
    {
     "output_type": "stream",
     "name": "stdout",
     "text": [
      "\nTrain Loss: 1.2877 Acc: 0.8400\n"
     ]
    },
    {
     "output_type": "display_data",
     "data": {
      "text/plain": "HBox(children=(HTML(value=''), FloatProgress(value=0.0, max=125.0), HTML(value='')))",
      "application/vnd.jupyter.widget-view+json": {
       "version_major": 2,
       "version_minor": 0,
       "model_id": "bc7cbffc9e1f41d390f091eccd142a57"
      }
     },
     "metadata": {}
    },
    {
     "output_type": "stream",
     "name": "stdout",
     "text": [
      "\n",
      "Accuracy on LFW: 0.7769+-0.0302\n",
      "Precision 0.7830+-0.0302\n",
      "Recall 0.7664+-0.0398\n",
      "F1-score: 0.7746+-0.0343\n",
      "ROC Area Under Curve: 0.8518\n",
      "Best distance threshold: 0.77+-0.00\n",
      "TAR: 0.5733+-0.0287 @ FAR: 0.1010\n",
      "Epoch 196/204\n",
      "--------------------\n"
     ]
    },
    {
     "output_type": "display_data",
     "data": {
      "text/plain": "HBox(children=(HTML(value=''), FloatProgress(value=0.0, max=192.0), HTML(value='')))",
      "application/vnd.jupyter.widget-view+json": {
       "version_major": 2,
       "version_minor": 0,
       "model_id": "2404625b932045c388c725db6c8f8495"
      }
     },
     "metadata": {}
    },
    {
     "output_type": "stream",
     "name": "stdout",
     "text": [
      "\nTrain Loss: 1.4200 Acc: 0.8226\n"
     ]
    },
    {
     "output_type": "display_data",
     "data": {
      "text/plain": "HBox(children=(HTML(value=''), FloatProgress(value=0.0, max=125.0), HTML(value='')))",
      "application/vnd.jupyter.widget-view+json": {
       "version_major": 2,
       "version_minor": 0,
       "model_id": "e532d8e370c64e93847aacfde1e2fc8f"
      }
     },
     "metadata": {}
    },
    {
     "output_type": "stream",
     "name": "stdout",
     "text": [
      "\n",
      "Accuracy on LFW: 0.7845+-0.0204\n",
      "Precision 0.7766+-0.0239\n",
      "Recall 0.7999+-0.0357\n",
      "F1-score: 0.7881+-0.0286\n",
      "ROC Area Under Curve: 0.8625\n",
      "Best distance threshold: 1.04+-0.02\n",
      "TAR: 0.6068+-0.0229 @ FAR: 0.1010\n",
      "Epoch 197/204\n",
      "--------------------\n"
     ]
    },
    {
     "output_type": "display_data",
     "data": {
      "text/plain": "HBox(children=(HTML(value=''), FloatProgress(value=0.0, max=192.0), HTML(value='')))",
      "application/vnd.jupyter.widget-view+json": {
       "version_major": 2,
       "version_minor": 0,
       "model_id": "e79a343325a44bdcadb755b49170bed0"
      }
     },
     "metadata": {}
    },
    {
     "output_type": "stream",
     "name": "stdout",
     "text": [
      "\nTrain Loss: 1.4598 Acc: 0.8285\n"
     ]
    },
    {
     "output_type": "display_data",
     "data": {
      "text/plain": "HBox(children=(HTML(value=''), FloatProgress(value=0.0, max=125.0), HTML(value='')))",
      "application/vnd.jupyter.widget-view+json": {
       "version_major": 2,
       "version_minor": 0,
       "model_id": "5570ba4c3fcd402792244b83e41fede8"
      }
     },
     "metadata": {}
    },
    {
     "output_type": "stream",
     "name": "stdout",
     "text": [
      "\n",
      "Accuracy on LFW: 0.7677+-0.0309\n",
      "Precision 0.7811+-0.0314\n",
      "Recall 0.7439+-0.0400\n",
      "F1-score: 0.7620+-0.0352\n",
      "ROC Area Under Curve: 0.8411\n",
      "Best distance threshold: 1.07+-0.02\n",
      "TAR: 0.5507+-0.0405 @ FAR: 0.1010\n",
      "Epoch 198/204\n",
      "--------------------\n"
     ]
    },
    {
     "output_type": "display_data",
     "data": {
      "text/plain": "HBox(children=(HTML(value=''), FloatProgress(value=0.0, max=192.0), HTML(value='')))",
      "application/vnd.jupyter.widget-view+json": {
       "version_major": 2,
       "version_minor": 0,
       "model_id": "2603406a40384a9598289eb7dfee65e6"
      }
     },
     "metadata": {}
    },
    {
     "output_type": "stream",
     "name": "stdout",
     "text": [
      "\nTrain Loss: 1.3590 Acc: 0.8343\n"
     ]
    },
    {
     "output_type": "display_data",
     "data": {
      "text/plain": "HBox(children=(HTML(value=''), FloatProgress(value=0.0, max=125.0), HTML(value='')))",
      "application/vnd.jupyter.widget-view+json": {
       "version_major": 2,
       "version_minor": 0,
       "model_id": "8f5d2367624b487eb3389af5a71c71f3"
      }
     },
     "metadata": {}
    },
    {
     "output_type": "stream",
     "name": "stdout",
     "text": [
      "\n",
      "Accuracy on LFW: 0.7799+-0.0229\n",
      "Precision 0.7971+-0.0279\n",
      "Recall 0.7519+-0.0244\n",
      "F1-score: 0.7738+-0.0260\n",
      "ROC Area Under Curve: 0.8523\n",
      "Best distance threshold: 1.00+-0.01\n",
      "TAR: 0.5998+-0.0266 @ FAR: 0.1020\n",
      "Epoch 199/204\n",
      "--------------------\n"
     ]
    },
    {
     "output_type": "display_data",
     "data": {
      "text/plain": "HBox(children=(HTML(value=''), FloatProgress(value=0.0, max=192.0), HTML(value='')))",
      "application/vnd.jupyter.widget-view+json": {
       "version_major": 2,
       "version_minor": 0,
       "model_id": "fa46997302c447ec8f1801330d65f214"
      }
     },
     "metadata": {}
    },
    {
     "output_type": "stream",
     "name": "stdout",
     "text": [
      "\nTrain Loss: 1.4489 Acc: 0.8309\n"
     ]
    },
    {
     "output_type": "display_data",
     "data": {
      "text/plain": "HBox(children=(HTML(value=''), FloatProgress(value=0.0, max=125.0), HTML(value='')))",
      "application/vnd.jupyter.widget-view+json": {
       "version_major": 2,
       "version_minor": 0,
       "model_id": "4384ee0e4e7044a68ae750fea6b0189e"
      }
     },
     "metadata": {}
    },
    {
     "output_type": "stream",
     "name": "stdout",
     "text": [
      "\n",
      "Accuracy on LFW: 0.7722+-0.0221\n",
      "Precision 0.7984+-0.0288\n",
      "Recall 0.7294+-0.0301\n",
      "F1-score: 0.7623+-0.0294\n",
      "ROC Area Under Curve: 0.8401\n",
      "Best distance threshold: 0.85+-0.00\n",
      "TAR: 0.5923+-0.0338 @ FAR: 0.0995\n",
      "Epoch 200/204\n",
      "--------------------\n"
     ]
    },
    {
     "output_type": "display_data",
     "data": {
      "text/plain": "HBox(children=(HTML(value=''), FloatProgress(value=0.0, max=192.0), HTML(value='')))",
      "application/vnd.jupyter.widget-view+json": {
       "version_major": 2,
       "version_minor": 0,
       "model_id": "84be58d59b274f15aa756c9113128516"
      }
     },
     "metadata": {}
    },
    {
     "output_type": "stream",
     "name": "stdout",
     "text": [
      "\nTrain Loss: 1.2929 Acc: 0.8385\n"
     ]
    },
    {
     "output_type": "display_data",
     "data": {
      "text/plain": "HBox(children=(HTML(value=''), FloatProgress(value=0.0, max=125.0), HTML(value='')))",
      "application/vnd.jupyter.widget-view+json": {
       "version_major": 2,
       "version_minor": 0,
       "model_id": "f21d5d595f7743c9b9cb2a7cc1e1c0ed"
      }
     },
     "metadata": {}
    },
    {
     "output_type": "stream",
     "name": "stdout",
     "text": [
      "\n",
      "Accuracy on LFW: 0.7757+-0.0188\n",
      "Precision 0.7652+-0.0162\n",
      "Recall 0.7954+-0.0335\n",
      "F1-score: 0.7800+-0.0219\n",
      "ROC Area Under Curve: 0.8446\n",
      "Best distance threshold: 0.98+-0.01\n",
      "TAR: 0.5533+-0.0423 @ FAR: 0.0995\n",
      "Epoch 201/204\n",
      "--------------------\n"
     ]
    },
    {
     "output_type": "display_data",
     "data": {
      "text/plain": "HBox(children=(HTML(value=''), FloatProgress(value=0.0, max=192.0), HTML(value='')))",
      "application/vnd.jupyter.widget-view+json": {
       "version_major": 2,
       "version_minor": 0,
       "model_id": "b974400b95954be2abcc69fab43545d2"
      }
     },
     "metadata": {}
    },
    {
     "output_type": "stream",
     "name": "stdout",
     "text": [
      "\nTrain Loss: 1.3435 Acc: 0.8309\n"
     ]
    },
    {
     "output_type": "display_data",
     "data": {
      "text/plain": "HBox(children=(HTML(value=''), FloatProgress(value=0.0, max=125.0), HTML(value='')))",
      "application/vnd.jupyter.widget-view+json": {
       "version_major": 2,
       "version_minor": 0,
       "model_id": "a94f6899fb4f475eb85afa126e4a5096"
      }
     },
     "metadata": {}
    },
    {
     "output_type": "stream",
     "name": "stdout",
     "text": [
      "\n",
      "Accuracy on LFW: 0.7754+-0.0278\n",
      "Precision 0.7811+-0.0276\n",
      "Recall 0.7654+-0.0337\n",
      "F1-score: 0.7731+-0.0303\n",
      "ROC Area Under Curve: 0.8499\n",
      "Best distance threshold: 0.89+-0.00\n",
      "TAR: 0.5833+-0.0435 @ FAR: 0.0995\n",
      "Epoch 202/204\n",
      "--------------------\n"
     ]
    },
    {
     "output_type": "display_data",
     "data": {
      "text/plain": "HBox(children=(HTML(value=''), FloatProgress(value=0.0, max=192.0), HTML(value='')))",
      "application/vnd.jupyter.widget-view+json": {
       "version_major": 2,
       "version_minor": 0,
       "model_id": "986ee2858809404db5202df906f339cc"
      }
     },
     "metadata": {}
    },
    {
     "output_type": "stream",
     "name": "stdout",
     "text": [
      "\nTrain Loss: 1.2316 Acc: 0.8431\n"
     ]
    },
    {
     "output_type": "display_data",
     "data": {
      "text/plain": "HBox(children=(HTML(value=''), FloatProgress(value=0.0, max=125.0), HTML(value='')))",
      "application/vnd.jupyter.widget-view+json": {
       "version_major": 2,
       "version_minor": 0,
       "model_id": "208a9596bd274f86a843092d53da38c6"
      }
     },
     "metadata": {}
    },
    {
     "output_type": "stream",
     "name": "stdout",
     "text": [
      "\n",
      "Accuracy on LFW: 0.7834+-0.0262\n",
      "Precision 0.7587+-0.0222\n",
      "Recall 0.8314+-0.0412\n",
      "F1-score: 0.7934+-0.0289\n",
      "ROC Area Under Curve: 0.8620\n",
      "Best distance threshold: 1.01+-0.03\n",
      "TAR: 0.5923+-0.0334 @ FAR: 0.1020\n",
      "Epoch 203/204\n",
      "--------------------\n"
     ]
    },
    {
     "output_type": "display_data",
     "data": {
      "text/plain": "HBox(children=(HTML(value=''), FloatProgress(value=0.0, max=192.0), HTML(value='')))",
      "application/vnd.jupyter.widget-view+json": {
       "version_major": 2,
       "version_minor": 0,
       "model_id": "12a3d2cd7e174ec5b0fad9a57e165626"
      }
     },
     "metadata": {}
    },
    {
     "output_type": "stream",
     "name": "stdout",
     "text": [
      "\nTrain Loss: 1.4279 Acc: 0.8242\n"
     ]
    },
    {
     "output_type": "display_data",
     "data": {
      "text/plain": "HBox(children=(HTML(value=''), FloatProgress(value=0.0, max=125.0), HTML(value='')))",
      "application/vnd.jupyter.widget-view+json": {
       "version_major": 2,
       "version_minor": 0,
       "model_id": "cad4cd43a9fd4c66bf450c824bf54b29"
      }
     },
     "metadata": {}
    },
    {
     "output_type": "stream",
     "name": "stdout",
     "text": [
      "\n",
      "Accuracy on LFW: 0.7864+-0.0230\n",
      "Precision 0.7893+-0.0247\n",
      "Recall 0.7819+-0.0281\n",
      "F1-score: 0.7856+-0.0263\n",
      "ROC Area Under Curve: 0.8618\n",
      "Best distance threshold: 1.01+-0.00\n",
      "TAR: 0.6088+-0.0384 @ FAR: 0.0995\n",
      "Epoch 204/204\n",
      "--------------------\n"
     ]
    },
    {
     "output_type": "display_data",
     "data": {
      "text/plain": "HBox(children=(HTML(value=''), FloatProgress(value=0.0, max=192.0), HTML(value='')))",
      "application/vnd.jupyter.widget-view+json": {
       "version_major": 2,
       "version_minor": 0,
       "model_id": "0ee5c64619994cf285b408ae6e9395ac"
      }
     },
     "metadata": {}
    },
    {
     "output_type": "stream",
     "name": "stdout",
     "text": [
      "\nTrain Loss: 1.3882 Acc: 0.8319\n"
     ]
    },
    {
     "output_type": "display_data",
     "data": {
      "text/plain": "HBox(children=(HTML(value=''), FloatProgress(value=0.0, max=125.0), HTML(value='')))",
      "application/vnd.jupyter.widget-view+json": {
       "version_major": 2,
       "version_minor": 0,
       "model_id": "9dcde675a1db402aa78684362643a1df"
      }
     },
     "metadata": {}
    },
    {
     "output_type": "stream",
     "name": "stdout",
     "text": [
      "\n",
      "Accuracy on LFW: 0.7757+-0.0172\n",
      "Precision 0.7692+-0.0302\n",
      "Recall 0.7909+-0.0267\n",
      "F1-score: 0.7799+-0.0284\n",
      "ROC Area Under Curve: 0.8567\n",
      "Best distance threshold: 1.06+-0.06\n",
      "TAR: 0.5848+-0.0458 @ FAR: 0.1005\n"
     ]
    }
   ],
   "source": [
    "train(model, optimizer, LR_scheduler, num_epochs=30, start_epoch=curr_model_epoch, margin=0.6, prev_losses=prev_losses)"
   ]
  },
  {
   "cell_type": "code",
   "execution_count": 10,
   "metadata": {},
   "outputs": [
    {
     "output_type": "display_data",
     "data": {
      "text/plain": "  0%|          | 0/125 [00:00<?, ?it/s]",
      "application/vnd.jupyter.widget-view+json": {
       "version_major": 2,
       "version_minor": 0,
       "model_id": "c1354ed938dd4fd0b50e1d4a2db3d8b5"
      }
     },
     "metadata": {}
    },
    {
     "output_type": "stream",
     "name": "stdout",
     "text": [
      "Accuracy on LFW: 0.8005+-0.0225\nPrecision: 0.7742+-0.0228\nRecall: 0.8489+-0.0263\nF1-score: 0.8098+-0.0244\nROC Area Under Curve: 0.8745\nBest distance threshold: 1.13+-0.01\nTAR: 0.6208+-0.0408 @ FAR: 0.0995\n"
     ]
    },
    {
     "output_type": "execute_result",
     "data": {
      "text/plain": [
       "array([1.13, 1.13, 1.13, 1.13, 1.13, 1.16, 1.13, 1.13, 1.13, 1.13])"
      ]
     },
     "metadata": {},
     "execution_count": 10
    }
   ],
   "source": [
    "validate_lfw(model, dataloaders['val'])"
   ]
  },
  {
   "cell_type": "code",
   "execution_count": 11,
   "metadata": {},
   "outputs": [
    {
     "output_type": "display_data",
     "data": {
      "text/plain": "  0%|          | 0/125 [00:00<?, ?it/s]",
      "application/vnd.jupyter.widget-view+json": {
       "version_major": 2,
       "version_minor": 0,
       "model_id": "b2253f15dcae4c9baa51faa23722951b"
      }
     },
     "metadata": {}
    },
    {
     "output_type": "stream",
     "name": "stdout",
     "text": [
      "Accuracy on LFW: 0.8152+-0.0190\nPrecision: 0.8117+-0.0183\nRecall: 0.8214+-0.0383\nF1-score: 0.8165+-0.0248\nROC Area Under Curve: 0.8953\nBest distance threshold: 1.06+-0.01\nTAR: 0.6859+-0.0418 @ FAR: 0.0995\n"
     ]
    },
    {
     "output_type": "execute_result",
     "data": {
      "text/plain": [
       "array([1.1 , 1.06, 1.06, 1.06, 1.06, 1.06, 1.06, 1.06, 1.06, 1.06])"
      ]
     },
     "metadata": {},
     "execution_count": 11
    }
   ],
   "source": [
    "validate_lfw(model, dataloaders['test'])"
   ]
  },
  {
   "cell_type": "code",
   "execution_count": null,
   "metadata": {},
   "outputs": [],
   "source": []
  }
 ],
 "metadata": {
  "kernelspec": {
   "name": "python37464bitbaseconda4f12520a107c44ccaaacdf341cde0036",
   "display_name": "Python 3.7.6 64-bit ('base': conda)"
  },
  "language_info": {
   "codemirror_mode": {
    "name": "ipython",
    "version": 3
   },
   "file_extension": ".py",
   "mimetype": "text/x-python",
   "name": "python",
   "nbconvert_exporter": "python",
   "pygments_lexer": "ipython3",
   "version": "3.7.6"
  },
  "metadata": {
   "interpreter": {
    "hash": "3f800561dde6209f0c647b1ec24b295364b37801e2a63d392a491285ef4d5a88"
   }
  }
 },
 "nbformat": 4,
 "nbformat_minor": 4
}